{
 "nbformat": 4,
 "nbformat_minor": 2,
 "metadata": {
  "language_info": {
   "name": "python",
   "codemirror_mode": {
    "name": "ipython",
    "version": 3
   },
   "version": "3.7.3-final"
  },
  "orig_nbformat": 2,
  "file_extension": ".py",
  "mimetype": "text/x-python",
  "name": "python",
  "npconvert_exporter": "python",
  "pygments_lexer": "ipython3",
  "version": 3,
  "kernelspec": {
   "name": "python37364bite930ee9900214d1f9a80f7dd70acd4dd",
   "display_name": "Python 3.7.3 64-bit"
  }
 },
 "cells": [
  {
   "cell_type": "markdown",
   "metadata": {},
   "source": [
    "# 必要なライブラリのインストール"
   ]
  },
  {
   "cell_type": "code",
   "execution_count": 1,
   "metadata": {},
   "outputs": [
    {
     "name": "stdout",
     "output_type": "stream",
     "text": "Requirement already satisfied: requests in ./venv/lib/python3.7/site-packages (2.23.0)\nRequirement already satisfied: urllib3!=1.25.0,!=1.25.1,<1.26,>=1.21.1 in ./venv/lib/python3.7/site-packages (from requests) (1.25.8)\nRequirement already satisfied: certifi>=2017.4.17 in ./venv/lib/python3.7/site-packages (from requests) (2019.11.28)\nRequirement already satisfied: chardet<4,>=3.0.2 in ./venv/lib/python3.7/site-packages (from requests) (3.0.4)\nRequirement already satisfied: idna<3,>=2.5 in ./venv/lib/python3.7/site-packages (from requests) (2.9)\nRequirement already satisfied: beautifulsoup4 in ./venv/lib/python3.7/site-packages (4.8.2)\nRequirement already satisfied: soupsieve>=1.2 in ./venv/lib/python3.7/site-packages (from beautifulsoup4) (2.0)\nRequirement already satisfied: janome in ./venv/lib/python3.7/site-packages (0.3.10)\nRequirement already satisfied: scikit-learn in ./venv/lib/python3.7/site-packages (0.22.2)\nRequirement already satisfied: joblib>=0.11 in ./venv/lib/python3.7/site-packages (from scikit-learn) (0.14.1)\nRequirement already satisfied: numpy>=1.11.0 in ./venv/lib/python3.7/site-packages (from scikit-learn) (1.18.1)\nRequirement already satisfied: scipy>=0.17.0 in ./venv/lib/python3.7/site-packages (from scikit-learn) (1.4.1)\nRequirement already satisfied: pandas in ./venv/lib/python3.7/site-packages (1.0.1)\nRequirement already satisfied: pytz>=2017.2 in ./venv/lib/python3.7/site-packages (from pandas) (2019.3)\nRequirement already satisfied: python-dateutil>=2.6.1 in ./venv/lib/python3.7/site-packages (from pandas) (2.8.1)\nRequirement already satisfied: numpy>=1.13.3 in ./venv/lib/python3.7/site-packages (from pandas) (1.18.1)\nRequirement already satisfied: six>=1.5 in ./venv/lib/python3.7/site-packages (from python-dateutil>=2.6.1->pandas) (1.14.0)\nPackage         Version   \n--------------- ----------\nautopep8        1.5       \nbeautifulsoup4  4.8.2     \ncertifi         2019.11.28\nchardet         3.0.4     \nidna            2.9       \nJanome          0.3.10    \njoblib          0.14.1    \nnumpy           1.18.1    \npandas          1.0.1     \npip             20.0.2    \npycodestyle     2.5.0     \npython-dateutil 2.8.1     \npytz            2019.3    \nrequests        2.23.0    \nscikit-learn    0.22.2    \nscipy           1.4.1     \nsetuptools      40.8.0    \nsix             1.14.0    \nsoupsieve       2.0       \nurllib3         1.25.8    \n"
    }
   ],
   "source": [
    "!pip install requests\n",
    "!pip install beautifulsoup4\n",
    "!pip install janome\n",
    "!pip install scikit-learn\n",
    "!pip install pandas\n",
    "!pip list"
   ]
  },
  {
   "cell_type": "code",
   "execution_count": 2,
   "metadata": {},
   "outputs": [],
   "source": [
    "import sys\n",
    "# 自分の環境では venv内のパッケージにパスが通っていなかったため、パスを追加\n",
    "venv_packages_path = '/Users/kawahara.masahiro/org/devio/ml-tfidf/venv/lib/python3.7/site-packages' #edit yourself\n",
    "if venv_packages_path not in sys.path:\n",
    "    sys.path.append(venv_packages_path)"
   ]
  },
  {
   "cell_type": "markdown",
   "metadata": {},
   "source": [
    "# URLリストから各ブログのテキスト情報を取得する"
   ]
  },
  {
   "cell_type": "markdown",
   "metadata": {},
   "source": [
    "## URLリスト取得\n",
    "- 対象のURLリストは `./contents/url_list.txt` に格納"
   ]
  },
  {
   "cell_type": "code",
   "execution_count": 3,
   "metadata": {},
   "outputs": [
    {
     "name": "stdout",
     "output_type": "stream",
     "text": "len(url_list): 48\nurl_list[0]: https://dev.classmethod.jp/cloud/aws/on-premise-reverse-proxy-using-alb/\n"
    }
   ],
   "source": [
    "url_list_path = \"./contents/url_list.txt\" #edit yourself\n",
    "url_list = []\n",
    "with open(url_list_path) as f:\n",
    "    url_list = [l.replace('\\n', '') for l in f.readlines()]\n",
    "# 確認\n",
    "print(\"len(url_list): {}\".format(len(url_list)))\n",
    "print(\"url_list[0]: {}\".format(url_list[0]))"
   ]
  },
  {
   "cell_type": "markdown",
   "metadata": {},
   "source": [
    "## マッピング作成\n",
    "- インデックス <---> 各情報(URL, テキスト, TF-IDF値など)"
   ]
  },
  {
   "cell_type": "code",
   "execution_count": 4,
   "metadata": {},
   "outputs": [
    {
     "name": "stdout",
     "output_type": "stream",
     "text": "len(BLOG): 48\nBLOG[0][\"url\"]: https://dev.classmethod.jp/cloud/aws/on-premise-reverse-proxy-using-alb/\n"
    }
   ],
   "source": [
    "BLOG = {}\n",
    "for i, url in enumerate(url_list):\n",
    "    BLOG[i] = {}\n",
    "    BLOG[i][\"url\"] = url\n",
    "# 確認\n",
    "print(\"len(BLOG): {}\".format(len(BLOG)))\n",
    "print(\"BLOG[0][\\\"url\\\"]: {}\".format(BLOG[0][\"url\"]))"
   ]
  },
  {
   "cell_type": "markdown",
   "metadata": {},
   "source": [
    "## ブログテキストのリストを取得\n",
    "- 各URLリストから `./util/get_blog_texts.py` を使ってブログテキストを取得する"
   ]
  },
  {
   "cell_type": "code",
   "execution_count": 5,
   "metadata": {},
   "outputs": [],
   "source": [
    "from util.get_blog_texts import get_blog_texts"
   ]
  },
  {
   "cell_type": "code",
   "execution_count": 6,
   "metadata": {},
   "outputs": [
    {
     "name": "stdout",
     "output_type": "stream",
     "text": "#0 getting texts from: https://dev.classmethod.jp/cloud/aws/on-premise-reverse-proxy-using-alb/\n#1 getting texts from: https://dev.classmethod.jp/cloud/aws/aws-cisco-site-to-site-vpn/\n#2 getting texts from: https://dev.classmethod.jp/cloud/aws/higobashi-aws-11-deepracer/\n#3 getting texts from: https://dev.classmethod.jp/cloud/aws/aws-summit-osaka-2019-297-input-output/\n#4 getting texts from: https://dev.classmethod.jp/cloud/aws/aws-cdk-intro-nw/\n#5 getting texts from: https://dev.classmethod.jp/etc/summit-osaka-2019-299-basic/\n#6 getting texts from: https://dev.classmethod.jp/cloud/aws/vscode-botostubs-boto3/\n#7 getting texts from: https://dev.classmethod.jp/etc/site_vpn_azure_aws/\n#8 getting texts from: https://dev.classmethod.jp/cloud/aws/awsspec-by-jupyter/\n#9 getting texts from: https://dev.classmethod.jp/cloud/aws/deepracer-new-input-parameters/\n#10 getting texts from: https://dev.classmethod.jp/cloud/aws/aws-summit-osaka-2019-298-security/\n#11 getting texts from: https://dev.classmethod.jp/etc/cloudformation-templates-on-emacs/\n#12 getting texts from: https://dev.classmethod.jp/etc/parse-my-article-using-beautiful-soup/\n#13 getting texts from: https://dev.classmethod.jp/cloud/aws/devio2019-osaka-vpn-introduction/\n#14 getting texts from: https://dev.classmethod.jp/cloud/aws/cmregrowth2019-osaka-tgw-update/\n#15 getting texts from: https://dev.classmethod.jp/cloud/aws/management-console-region-select-shinsetu/\n#16 getting texts from: https://dev.classmethod.jp/cloud/aws/koneta-aws-waf-managed-rule-exception/\n#17 getting texts from: https://dev.classmethod.jp/etc/relay_looking_back_amazon_rds_2019/\n#18 getting texts from: https://dev.classmethod.jp/etc/kawahara-join-201906/\n#19 getting texts from: https://dev.classmethod.jp/cloud/aws/ssl-introduction-for-aws-client-vpn/\n#20 getting texts from: https://dev.classmethod.jp/etc/org-mode-paste-show-clipboard-image/\n#21 getting texts from: https://dev.classmethod.jp/cloud/aws/serverless-streaming-process-pipelin-bestpractice/\n#22 getting texts from: https://dev.classmethod.jp/cloud/aws/ha-proxy-environment-using-nlb/\n#23 getting texts from: https://dev.classmethod.jp/cloud/aws/transit-gateway-supports-multicast/\n#24 getting texts from: https://dev.classmethod.jp/cloud/aws/python-securitygroups-to-markdown/\n#25 getting texts from: https://dev.classmethod.jp/cloud/aws/cdk-python-cfnbucket-policy/\n#26 getting texts from: https://dev.classmethod.jp/cloud/aws/best-practiceof-making-cfn-reinvent2019/\n#27 getting texts from: https://dev.classmethod.jp/cloud/aws/cfn-tempolary-use-of-ssm/\n#28 getting texts from: https://dev.classmethod.jp/cloud/aws/aws-nw-architectures-net320/\n#29 getting texts from: https://dev.classmethod.jp/cloud/aws/ssm-run-command-on-purivate-subnet/\n#30 getting texts from: https://dev.classmethod.jp/etc/mac-powershell-core-6-2/\n#31 getting texts from: https://dev.classmethod.jp/cloud/aws/tgw-network-manager-with-cli/\n#32 getting texts from: https://dev.classmethod.jp/cloud/aws/use-proxy-server-over-vpcpeering/\n#33 getting texts from: https://dev.classmethod.jp/etc/waf-athena-excel/\n#34 getting texts from: https://dev.classmethod.jp/etc/emacs-setup-and-org-mode/\n#35 getting texts from: https://dev.classmethod.jp/cloud/aws/cfn-helper-scripts-using-pwsh-sdk/\n#36 getting texts from: https://dev.classmethod.jp/cloud/aws/aim214-introduction-of-sagemaker-studio/\n#37 getting texts from: https://dev.classmethod.jp/server-side/python/deepracer-matplotlib-pandas/\n#38 getting texts from: https://dev.classmethod.jp/etc/org-mode-re-reveal/\n#39 getting texts from: https://dev.classmethod.jp/cloud/azure/azure-cisco-site-to-site-vpn/\n#40 getting texts from: https://dev.classmethod.jp/cloud/aws/org-mode-run-awscli/\n#41 getting texts from: https://dev.classmethod.jp/cloud/aws/stg202-whatsnew-aws-file-storage/\n#42 getting texts from: https://dev.classmethod.jp/cloud/aws/container-night-2019-10-28/\n#43 getting texts from: https://dev.classmethod.jp/etc/azure-first-vm/\n#44 getting texts from: https://dev.classmethod.jp/cloud/aws-summit-tokyo-2019-c3-01-container/\n#45 getting texts from: https://dev.classmethod.jp/etc/powershell-core-6-psreadline/\n#46 getting texts from: https://dev.classmethod.jp/cloud/aws/try-accelerated-site-to-site-vpn/\n#47 getting texts from: https://dev.classmethod.jp/cloud/aws/cloudtrail-athena-s3-object-survey/\n"
    }
   ],
   "source": [
    "import time \n",
    "\n",
    "for i in BLOG.keys():\n",
    "    url = BLOG[i][\"url\"]\n",
    "    print(\"#{} getting texts from: {}\".format(i, url))\n",
    "    BLOG[i][\"texts\"] = get_blog_texts(url)\n",
    "    time.sleep(1)"
   ]
  },
  {
   "cell_type": "code",
   "execution_count": 7,
   "metadata": {},
   "outputs": [
    {
     "name": "stdout",
     "output_type": "stream",
     "text": "len(BLOG[0][texts]): 65\nlen(BLOG[0][texts][0]): Application Load Balancer (ALB), Network Load Balancer (NLB) はターゲットにローカルIPアドレス を指定できます。VPCピアリング接続先のインスタンスや、Direct Connect・VPN接続先のオンプレのサーバーをターゲットグループに登録することができます。\n"
    }
   ],
   "source": [
    "# 確認\n",
    "print(\"len(BLOG[0][texts]): {}\".format(len(BLOG[0][\"texts\"])))\n",
    "print(\"len(BLOG[0][texts][0]): {}\".format(BLOG[0][\"texts\"][0]))"
   ]
  },
  {
   "cell_type": "markdown",
   "metadata": {},
   "source": [
    "## テキスト前処理\n",
    "- 今回は日本語テキストを想定しているので、空白を削除します\n",
    "- アルファベットは全て小文字化します"
   ]
  },
  {
   "cell_type": "code",
   "execution_count": 8,
   "metadata": {},
   "outputs": [],
   "source": [
    "for i in BLOG.keys():\n",
    "    BLOG[i][\"texts\"] = [t.replace(' ','').lower() for t in BLOG[i][\"texts\"]]"
   ]
  },
  {
   "cell_type": "code",
   "execution_count": 9,
   "metadata": {},
   "outputs": [
    {
     "name": "stdout",
     "output_type": "stream",
     "text": "len(BLOG[0][texts]): 65\nlen(BLOG[0][texts][0]): applicationloadbalancer(alb),networkloadbalancer(nlb)はターゲットにローカルipアドレスを指定できます。vpcピアリング接続先のインスタンスや、directconnect・vpn接続先のオンプレのサーバーをターゲットグループに登録することができます。\n"
    }
   ],
   "source": [
    "# 確認\n",
    "print(\"len(BLOG[0][texts]): {}\".format(len(BLOG[0][\"texts\"])))\n",
    "print(\"len(BLOG[0][texts][0]): {}\".format(BLOG[0][\"texts\"][0]))"
   ]
  },
  {
   "cell_type": "markdown",
   "metadata": {},
   "source": [
    "# janome で形態素解析\n",
    "- 各テキストの単語を抽出\n",
    "- 分かち書きした結果を `BLOG[i][\"wakati\"]` に格納\n",
    "- 参考\n",
    "    - [Janome documentation](https://mocobeta.github.io/janome/)\n",
    "    - [Janome API #POSStopFilter](https://mocobeta.github.io/janome/api/janome.html#janome.tokenfilter.POSStopFilter)\n",
    "    - [Janome API #Token](https://mocobeta.github.io/janome/api/janome.html#janome.tokenizer.Token)"
   ]
  },
  {
   "cell_type": "code",
   "execution_count": 10,
   "metadata": {},
   "outputs": [],
   "source": [
    "from janome.tokenizer import Tokenizer\n",
    "from janome.analyzer import Analyzer\n",
    "from janome.tokenfilter import POSStopFilter"
   ]
  },
  {
   "cell_type": "code",
   "execution_count": 11,
   "metadata": {},
   "outputs": [],
   "source": [
    "tokenizer = Tokenizer()\n",
    "token_filters = [POSStopFilter(['記号','助詞','助動詞','動詞'])]\n",
    "a = Analyzer(tokenizer=tokenizer, token_filters=token_filters)"
   ]
  },
  {
   "cell_type": "code",
   "execution_count": 12,
   "metadata": {},
   "outputs": [
    {
     "name": "stdout",
     "output_type": "stream",
     "text": "applicationloadbalancer\t名詞,固有名詞,組織,*,*,*,applicationloadbalancer,*,*\n(\t名詞,サ変接続,*,*,*,*,(,*,*\nalb\t名詞,一般,*,*,*,*,alb,*,*\n),\t名詞,サ変接続,*,*,*,*,),,*,*\nnetworkloadbalancer\t名詞,一般,*,*,*,*,networkloadbalancer,*,*\n(\t名詞,サ変接続,*,*,*,*,(,*,*\nnlb\t名詞,一般,*,*,*,*,nlb,*,*\n)\t名詞,サ変接続,*,*,*,*,),*,*\nターゲット\t名詞,一般,*,*,*,*,ターゲット,ターゲット,ターゲット\nローカル\t名詞,一般,*,*,*,*,ローカル,ローカル,ローカル\nip\t名詞,一般,*,*,*,*,ip,*,*\nアドレス\t名詞,一般,*,*,*,*,アドレス,アドレス,アドレス\n指定\t名詞,サ変接続,*,*,*,*,指定,シテイ,シテイ\nvpc\t名詞,一般,*,*,*,*,vpc,*,*\nピアリング\t名詞,一般,*,*,*,*,ピアリング,*,*\n接続\t名詞,サ変接続,*,*,*,*,接続,セツゾク,セツゾク\n先\t名詞,接尾,一般,*,*,*,先,サキ,サキ\nインスタンス\t名詞,一般,*,*,*,*,インスタンス,インスタンス,インスタンス\ndirectconnect\t名詞,固有名詞,組織,*,*,*,directconnect,*,*\nvpn\t名詞,固有名詞,組織,*,*,*,vpn,*,*\n接続\t名詞,サ変接続,*,*,*,*,接続,セツゾク,セツゾク\n先\t名詞,接尾,一般,*,*,*,先,サキ,サキ\nオンプレ\t名詞,一般,*,*,*,*,オンプレ,*,*\nサーバー\t名詞,一般,*,*,*,*,サーバー,サーバー,サーバー\nターゲット\t名詞,一般,*,*,*,*,ターゲット,ターゲット,ターゲット\nグループ\t名詞,一般,*,*,*,*,グループ,グループ,グループ\n登録\t名詞,サ変接続,*,*,*,*,登録,トウロク,トーロク\nこと\t名詞,非自立,一般,*,*,*,こと,コト,コト\n"
    }
   ],
   "source": [
    "# 確認(1文を解析)\n",
    "test_tokens = a.analyze(BLOG[0][\"texts\"][0])\n",
    "for t in test_tokens:\n",
    "    print(t)"
   ]
  },
  {
   "cell_type": "code",
   "execution_count": 13,
   "metadata": {},
   "outputs": [
    {
     "name": "stdout",
     "output_type": "stream",
     "text": "BLOG[0][wakati]: applicationloadbalancer ( alb ), networkloadbalancer ( nlb ) ターゲット ローカル ip アドレス 指定 vpc ピアリング 接続 先 インスタンス directconnect vpn 接続 先 オンプレ サーバー ターゲット グループ 登録 こと 今回 実際 オンプレ サーバー ターゲット 登録 alb リバースプロキシ 環境 構築 構築 検証 環境 以下 通り 私 上 検証 環境 構築 経緯 説明 ( スキップ 次 章 : 環境 構築 ok )。 directconnect ( dx ) 先 外部 サービス 通信 制限 接続 元 vpc cidr 指定 値 イケ ない ケース この 要件 ため 前々回 ブログ 前回 ブログ 自前 プロキシサーバー 構築 が 通信 要件 次第 aws マネージドサービス 構成 こと ゴール 既存 環境 ( vpc ) app サーバー 外部 サービス ローカル ip http ( s ) 通信 こと 新規 vpc 作成 その 上 applicationloadbalancer ( alb ) リバースプロキシ 環境 構築 alb ターゲット 外部 サービス ローカル ip 指定 検証 環境 再掲 構築 cloudformation ( cfn ) こちら 作成 cfn テンプレート vpn 接続 周り 以前 ブログ どおり そちら 参照 自宅 aws vpn 接続 ( cisco ルータ 編 )。。 alb cfn テンプレート 中身 説明 下記 3 リソース 作成 ▼— loadbalancer ---。▼— targetgroup ---。▼— listener ---。。 まず ターゲット ステータス 登録 ターゲット ( オンプレサーバー ) ステータス healthy app サーバー ログイン オンプレサーバー サービス 利用 検証 ( オンプレサーバー web サービス ( http ) )。 app サーバー ログイン alb アクセス アクセス 検証 内容 味気 オンプレサーバー アクセス 別名 ( エイリアス ) 作成 route 53 新規 ホスト ゾーン 作成 vpc プライベートホストゾーン レコード 作成 エイリアス 先 alb 指定 エイリアス アクセス オンプレサーバー ターゲット alb リバースプロキシ 環境 構築 今 プロキシサーバー 自前 作成 構成 検討 ため 運用 監視 周り 課題 多かっ aws マネージドサービス 構築 こと 良かっ 背景 環境 構築 検証 お わり 外部 サービス vpn 接続 先 オンプレ ( 自宅 ) サーバー alb 配置 ターゲット オンプレサーバー ローカル ip 指定 app サーバー alb 経由 オンプレサーバー http ( s ) 通信 こと 確認 00 - network . yaml : ネットワーク リソース 作成 用 01 - sg . yaml : セキュリティ グループ 作成 用 02 - ec 2 - app . yaml : アプリサーバー ( windows ) 作成 用 03 - alb . yaml : alb 作成 用 loadbalancer ( awscloudformation ドキュメント )。 targetgroup ( awscloudformation ドキュメント )。 listener ( awscloudformation ドキュメント )。 alb 作成 type : application 内部 向け 想定 scheme : internal 2 サブ ネット 設置 ため 設定 subnets : 記載 ローカル ip アドレス ターゲット targettype : ip ターゲット 通信 protocol : http port : 80 targets : ターゲット 登録 id :! reftargetip オンプレサーバー ip アドレス 指定 クライアント リクエスト port : 80 protocol : http defaultactions : アクション 設定 リクエスト albtargetgroup ルーティング ( forward )\n"
    }
   ],
   "source": [
    "# 解析\n",
    "for i in BLOG.keys():\n",
    "    texts_flat = \"。\".join(BLOG[i][\"texts\"])\n",
    "    tokens = a.analyze(texts_flat)\n",
    "    BLOG[i][\"wakati\"] = ' '.join([t.surface for t in tokens])\n",
    "# 確認\n",
    "print(\"BLOG[0][wakati]: {}\".format(BLOG[0][\"wakati\"]))"
   ]
  },
  {
   "cell_type": "markdown",
   "metadata": {},
   "source": [
    "# CountVectorizer で単語出現頻度を計算\n",
    "- `WORDS` に名詞一覧を格納\n",
    "- `BLOG[i][\"bow\"]` に BoW を格納\n",
    "- 参考\n",
    "    - [CountVectorizer](https://scikit-learn.org/stable/modules/generated/sklearn.feature_extraction.text.CountVectorizer.html)"
   ]
  },
  {
   "cell_type": "code",
   "execution_count": 14,
   "metadata": {},
   "outputs": [],
   "source": [
    "from sklearn.feature_extraction.text import CountVectorizer\n",
    "import random\n",
    "vectorizer = CountVectorizer()"
   ]
  },
  {
   "cell_type": "code",
   "execution_count": 15,
   "metadata": {},
   "outputs": [],
   "source": [
    "X = vectorizer.fit_transform([BLOG[i][\"wakati\"] for i in BLOG.keys()])"
   ]
  },
  {
   "cell_type": "code",
   "execution_count": 18,
   "metadata": {},
   "outputs": [
    {
     "name": "stdout",
     "output_type": "stream",
     "text": "['00', '000', '01', '02', '03', '04', '05', '06', '07', '08', '09', '10', '100', '107', '11', '12', '1234567890', '14', '149', '15', '16', '160', '168', '17', '172', '18', '184', '19', '192', '197', '1977', '20', '2001', '2002', '201', '2015', '2016', '2018', '2019', '2020', '20200204', '21', '2114', '22', '224', '24', '240030', '25', '254', '256', '26', '27', '30', '3128', '320', '34', '35', '3600', '375', '40', '403', '406', '41', '44', '463', '50', '500', '53', '57', '60', '618', '65', '66', '74', '746', '80', '830', '841', '950', '96', '99', '999999999', '__', 'aaaa', 'abcdef', 'abooleanflagtoindicatewhethertheagenthascrashedintoanotherobject', 'abooleanflagtoindicatewhethertheagenthasofftrack', 'about', 'aboutexecutionpolicies', 'abouttheevent', 'abs', 'accelerated', 'acceleratedsite', 'accelerator', 'accelerators', 'accessdenied', 'accessyourawsregionsfasterusingtheawsmanagementconsole', 'account', 'acl', 'acllocalnetsrcxxx']\n['豊富', '負債', '負荷', '責任', '責務', '費用', '資料', '資料集', '質問', '購入', '赤色', '走行', '起動', '距離', '踏み台', '軌跡', '軽減', '辞書', '近い', '返信', '返済', '追加', '追記', '送信', '送受信', '逐一', '通り', '通信', '通勤', '通常', '速い', '速報', '速度', '連携', '週間', '進化', '進行', '遅延', '運営', '運用', '違い', '適切', '適宜', '適当', '適用', '遷移', '選手', '選択', '選択肢', '部分', '配下', '配信', '配置', '重複', '重要', '重視', '長い', '長く', '長年', '長所', '開催', '開始', '開発', '関係', '関心', '関数', '関連', '閲覧', '限り', '限定', '限界', '随時', '隔離', '障害', '集い', '集中', '集合', '難しい', '難易', '雰囲気', '静的', '非同期', '面倒', '音楽', '項目', '順番', '領域', '頻度', '類似', '馴染み', '駄目', '高い', '高く', '高度', '高性能', '高級', '高速', '魅力', '鷲見', '６月']\n"
    }
   ],
   "source": [
    "WORDS = vectorizer.get_feature_names()\n",
    "# 確認\n",
    "print(WORDS[:100])\n",
    "print(WORDS[-100:])"
   ]
  },
  {
   "cell_type": "code",
   "execution_count": 19,
   "metadata": {},
   "outputs": [],
   "source": [
    "for i, bow in enumerate(X.toarray()):\n",
    "    BLOG[i][\"bow\"] = bow"
   ]
  },
  {
   "cell_type": "code",
   "execution_count": 20,
   "metadata": {},
   "outputs": [
    {
     "name": "stdout",
     "output_type": "stream",
     "text": "url of BLOG[0]: https://dev.classmethod.jp/cloud/aws/on-premise-reverse-proxy-using-alb/\nlist high frequency(>=6) words of BLOG[0]\n  - 13\talb: WORDS[112]\n  - 7\tip: WORDS[603]\n  - 8\tオンプレサーバー: WORDS[1481]\n  - 7\tサーバー: WORDS[1585]\n  - 6\tサービス: WORDS[1586]\n  - 11\tターゲット: WORDS[1665]\n  - 12\t作成: WORDS[2046]\n  - 6\t指定: WORDS[2365]\n  - 6\t接続: WORDS[2369]\n  - 6\t検証: WORDS[2471]\n  - 10\t構築: WORDS[2481]\n  - 9\t環境: WORDS[2551]\n"
    }
   ],
   "source": [
    "# 確認 (1ブログの高頻出の単語をリスト)\n",
    "n = 6\n",
    "print(\"url of BLOG[0]: {}\".format(BLOG[0][\"url\"]))\n",
    "print(\"list high frequency(>={}) words of BLOG[0]\".format(n))\n",
    "for w_idx, count in enumerate(BLOG[0][\"bow\"]):\n",
    "    if count >= n:\n",
    "        print(\"  - {}\\t{}: WORDS[{}]\".format(count, WORDS[w_idx], w_idx))"
   ]
  },
  {
   "cell_type": "markdown",
   "metadata": {},
   "source": [
    "# TF値の導出関数を作ってみる\n",
    "## 参考\n",
    "- [【技術解説】単語の重要度を測る？TF-IDFとOkapi BM25の計算方法とは](https://mieruca-ai.com/ai/tf-idf_okapi-bm25/)"
   ]
  },
  {
   "cell_type": "code",
   "execution_count": 21,
   "metadata": {},
   "outputs": [],
   "source": [
    "def calc_tf(b_idx, w_idx):\n",
    "    \"\"\"b_idx 番目のブログの WORD[w_idx] の TF値を算出する\"\"\"\n",
    "    # WORD[w_idx] の出現回数の和\n",
    "    word_count = BLOG[b_idx][\"bow\"][w_idx]\n",
    "    if word_count == 0:\n",
    "        return 0.0\n",
    "    # 全単語の出現回数の和\n",
    "    sum_of_words = sum(BLOG[b_idx][\"bow\"])\n",
    "    # TF値計計算\n",
    "    return word_count/float(sum_of_words)"
   ]
  },
  {
   "cell_type": "markdown",
   "metadata": {},
   "source": [
    "## 1blogの TF値を計算してみる"
   ]
  },
  {
   "cell_type": "code",
   "execution_count": 22,
   "metadata": {},
   "outputs": [
    {
     "name": "stdout",
     "output_type": "stream",
     "text": "# TF values of blog:https://dev.classmethod.jp/cloud/aws/on-premise-reverse-proxy-using-alb/\nalb\t0.0405\n作成\t0.0374\nターゲット\t0.0343\n構築\t0.0312\n環境\t0.028\nオンプレサーバー\t0.0249\nip\t0.0218\nサーバー\t0.0218\nサービス\t0.0187\n指定\t0.0187\n接続\t0.0187\n検証\t0.0187\napp\t0.0156\nhttp\t0.0156\nvpc\t0.0156\nこと\t0.0156\nローカル\t0.0156\n通信\t0.0156\nvpn\t0.0125\nyaml\t0.0125\n"
    }
   ],
   "source": [
    "# 確認\n",
    "index = 0\n",
    "print(\"# TF values of blog:{}\".format(BLOG[index][\"url\"]))\n",
    "sample_tfs = [calc_tf(index, w_idx) for w_idx, word in enumerate(WORDS)]\n",
    "tfs_sorted = sorted(enumerate(sample_tfs), key=lambda x:x[1], reverse=True)\n",
    "for i, tf in tfs_sorted[:20]:\n",
    "    print(\"{}\\t{}\".format(WORDS[i], round(tf, 4)))"
   ]
  },
  {
   "cell_type": "markdown",
   "metadata": {},
   "source": [
    "# IDFの導出関数を作ってみる"
   ]
  },
  {
   "cell_type": "code",
   "execution_count": 23,
   "metadata": {},
   "outputs": [],
   "source": [
    "import math\n",
    "\n",
    "def calc_idf(w_idx):\n",
    "    \"\"\"WORD[w_idx] の IDF値を算出する\"\"\"\n",
    "    # 総文書数\n",
    "    N = len(BLOG.keys())\n",
    "    # 単語 word が出現する文書数 df を計算\n",
    "    df = len([i for i in BLOG.keys() if BLOG[i][\"bow\"][w_idx] > 0])\n",
    "    # idf を計算\n",
    "    return math.log2(N/float(df + 1))"
   ]
  },
  {
   "cell_type": "markdown",
   "metadata": {},
   "source": [
    "## 全単語のIDFを計算してみる"
   ]
  },
  {
   "cell_type": "code",
   "execution_count": 24,
   "metadata": {},
   "outputs": [],
   "source": [
    "IDFS = [calc_idf(w_idx) for w_idx, word in enumerate(WORDS)]"
   ]
  },
  {
   "cell_type": "code",
   "execution_count": 25,
   "metadata": {},
   "outputs": [
    {
     "name": "stdout",
     "output_type": "stream",
     "text": "# IDF values\n000\t4.585\n04\t4.585\n05\t4.585\n07\t4.585\n08\t4.585\n09\t4.585\n107\t4.585\n1234567890\t4.585\n149\t4.585\n160\t4.585\n172\t4.585\n184\t4.585\n197\t4.585\n1977\t4.585\n2001\t4.585\n2002\t4.585\n201\t4.585\n2015\t4.585\n2018\t4.585\n2020\t4.585\n︙\n参考\t1.1255\n機能\t1.1255\n記事\t1.1255\n必要\t1.0614\n情報\t0.9411\n確認\t0.9411\n使用\t0.8845\n利用\t0.8301\n場合\t0.8301\n実行\t0.8301\n設定\t0.8301\n今回\t0.727\n環境\t0.727\nこの\t0.5406\n以下\t0.5406\nため\t0.4975\nよう\t0.4975\n作成\t0.4975\naws\t0.415\nこと\t0.2274\n"
    }
   ],
   "source": [
    "# 確認\n",
    "idfs_sorted  = sorted(enumerate(IDFS), key=lambda x:x[1], reverse=True)\n",
    "print(\"# IDF values\")\n",
    "for w_idx, idf in idfs_sorted[:20]:\n",
    "    print(\"{}\\t{}\".format(WORDS[w_idx], round(idf, 4)))\n",
    "print(\"︙\")\n",
    "for w_idx, idf in idfs_sorted[-20:]:\n",
    "    print(\"{}\\t{}\".format(WORDS[w_idx], round(idf, 4)))"
   ]
  },
  {
   "cell_type": "markdown",
   "metadata": {},
   "source": [
    "# TF-IDF を計算する"
   ]
  },
  {
   "cell_type": "code",
   "execution_count": 26,
   "metadata": {},
   "outputs": [],
   "source": [
    "def calc_tfidf(b_idx, w_idx):\n",
    "    \"\"\"b_idx 番目のブログの WORD[w_idx] の TF-IDF値を算出する\"\"\"\n",
    "    return calc_tf(b_idx, w_idx) * calc_idf(w_idx)"
   ]
  },
  {
   "cell_type": "code",
   "execution_count": 27,
   "metadata": {},
   "outputs": [
    {
     "name": "stdout",
     "output_type": "stream",
     "text": "# TF-IDF values of blog:https://dev.classmethod.jp/cloud/aws/on-premise-reverse-proxy-using-alb/\nalb\t0.1215\nオンプレサーバー\t0.1143\nターゲット\t0.1028\nサーバー\t0.0564\nhttp\t0.0558\napp\t0.0433\n構築\t0.0417\n外部\t0.0407\n検証\t0.0397\nip\t0.0388\nエイリアス\t0.0374\nリバースプロキシ\t0.0374\nローカル\t0.0352\n接続\t0.0352\nyaml\t0.0346\n通信\t0.0312\n80\t0.0286\n登録\t0.0282\nawscloudformation\t0.028\nvpn\t0.0265\n"
    }
   ],
   "source": [
    "# 確認\n",
    "index = 0\n",
    "print(\"# TF-IDF values of blog:{}\".format(BLOG[index][\"url\"]))\n",
    "sample_tfidfs = [calc_tfidf(index, w_idx) for w_idx, word in enumerate(WORDS)]\n",
    "tfidfs_sorted = sorted(enumerate(sample_tfidfs), key=lambda x:x[1], reverse=True)\n",
    "for i, tfidf in tfidfs_sorted[:20]:\n",
    "    print(\"{}\\t{}\".format(WORDS[i], round(tfidf, 4)))"
   ]
  },
  {
   "cell_type": "markdown",
   "metadata": {},
   "source": [
    "## 全ブログの TF, TF-IDF を計算する\n",
    "- 全ブログの TF, TF-IDF を計算して、それぞれ上位10個をテーブル表記する"
   ]
  },
  {
   "cell_type": "code",
   "execution_count": 28,
   "metadata": {},
   "outputs": [],
   "source": [
    "for b_idx in BLOG.keys():\n",
    "    BLOG[b_idx][\"tf\"] = [calc_tf(b_idx, w_idx) for w_idx, w in enumerate(WORDS)]\n",
    "    BLOG[b_idx][\"tfidf\"] = [calc_tfidf(b_idx, w_idx) for w_idx, w in enumerate(WORDS)]"
   ]
  },
  {
   "cell_type": "code",
   "execution_count": 29,
   "metadata": {},
   "outputs": [
    {
     "name": "stdout",
     "output_type": "stream",
     "text": "\n## TOP 5 TF, TF-IDF of blog: https://dev.classmethod.jp/cloud/aws/on-premise-reverse-proxy-using-alb/\n|    | TF上位     | TF-IDF上位       |\n|---:|:-----------|:-----------------|\n|  1 | alb        | alb              |\n|  2 | 作成       | オンプレサーバー |\n|  3 | ターゲット | ターゲット       |\n|  4 | 構築       | サーバー         |\n|  5 | 環境       | http             |\n\n## TOP 5 TF, TF-IDF of blog: https://dev.classmethod.jp/cloud/aws/aws-cisco-site-to-site-vpn/\n|    | TF上位   | TF-IDF上位   |\n|---:|:---------|:-------------|\n|  1 | aws      | active       |\n|  2 | vpn      | 自宅         |\n|  3 | 自宅     | vpn          |\n|  4 | 接続     | cisco        |\n|  5 | active   | 接続         |\n\n## TOP 5 TF, TF-IDF of blog: https://dev.classmethod.jp/cloud/aws/higobashi-aws-11-deepracer/\n|    | TF上位       | TF-IDF上位   |\n|---:|:-------------|:-------------|\n|  1 | aws          | 料金         |\n|  2 | 料金         | usd          |\n|  3 | awsdeepracer | awsdeepracer |\n|  4 | usd          | cd           |\n|  5 | 時間         | ci           |\n\n## TOP 5 TF, TF-IDF of blog: https://dev.classmethod.jp/cloud/aws/aws-summit-osaka-2019-297-input-output/\n|    | TF上位       | TF-IDF上位   |\n|---:|:-------------|:-------------|\n|  1 | aws          | 技術         |\n|  2 | 情報         | トレーニング |\n|  3 | 技術         | 資料         |\n|  4 | トレーニング | キャッチ     |\n|  5 | 最新         | 最新         |\n\n## TOP 5 TF, TF-IDF of blog: https://dev.classmethod.jp/cloud/aws/aws-cdk-intro-nw/\n|    | TF上位         | TF-IDF上位   |\n|---:|:---------------|:-------------|\n|  1 | 作成           | nw           |\n|  2 | リソース       | practice     |\n|  3 | vpc            | py           |\n|  4 | こと           | コンス       |\n|  5 | cloudformation | トラクタ     |\n\n## TOP 5 TF, TF-IDF of blog: https://dev.classmethod.jp/etc/summit-osaka-2019-299-basic/\n|    | TF上位       | TF-IDF上位   |\n|---:|:-------------|:-------------|\n|  1 | aws          | ストレージ   |\n|  2 | インスタンス | ebs          |\n|  3 | サービス     | データベース |\n|  4 | ストレージ   | 用途         |\n|  5 | ec           | rds          |\n\n## TOP 5 TF, TF-IDF of blog: https://dev.classmethod.jp/cloud/aws/vscode-botostubs-boto3/\n|    | TF上位       | TF-IDF上位   |\n|---:|:-------------|:-------------|\n|  1 | botostubs    | botostubs    |\n|  2 | vscode       | 支援         |\n|  3 | python       | vscode       |\n|  4 | こと         | boto         |\n|  5 | インストール | 入力         |\n\n## TOP 5 TF, TF-IDF of blog: https://dev.classmethod.jp/etc/site_vpn_azure_aws/\n|    | TF上位   | TF-IDF上位   |\n|---:|:---------|:-------------|\n|  1 | 作成     | azure        |\n|  2 | vpn      | 仮想         |\n|  3 | 仮想     | vpn          |\n|  4 | 接続     | 接続         |\n|  5 | aws      | ipsectunnel  |\n\n## TOP 5 TF, TF-IDF of blog: https://dev.classmethod.jp/cloud/aws/awsspec-by-jupyter/\n|    | TF上位          | TF-IDF上位      |\n|---:|:----------------|:----------------|\n|  1 | notebook        | notebook        |\n|  2 | html            | jupyternotebook |\n|  3 | jupyternotebook | pandas          |\n|  4 | ec              | html            |\n|  5 | pandas          | 出力            |\n\n## TOP 5 TF, TF-IDF of blog: https://dev.classmethod.jp/cloud/aws/deepracer-new-input-parameters/\n|    | TF上位     | TF-IDF上位   |\n|---:|:-----------|:-------------|\n|  1 | object     | object       |\n|  2 | パラメータ | objects      |\n|  3 | objects    | パラメータ   |\n|  4 | bot        | bot          |\n|  5 | カー       | カー         |\n\n## TOP 5 TF, TF-IDF of blog: https://dev.classmethod.jp/cloud/aws/aws-summit-osaka-2019-298-security/\n|    | TF上位             | TF-IDF上位         |\n|---:|:-------------------|:-------------------|\n|  1 | aws                | セキュリティ       |\n|  2 | セキュリティ       | ベストプラクティス |\n|  3 | ベストプラクティス | お客様             |\n|  4 | サービス           | datalake           |\n|  5 | お客様             | 原則               |\n\n## TOP 5 TF, TF-IDF of blog: https://dev.classmethod.jp/etc/cloudformation-templates-on-emacs/\n|    | TF上位       | TF-IDF上位   |\n|---:|:-------------|:-------------|\n|  1 | テンプレート | テンプレート |\n|  2 | cfn          | mode         |\n|  3 | mode         | cfn          |\n|  4 | yaml         | noweb        |\n|  5 | コード       | yaml         |\n\n## TOP 5 TF, TF-IDF of blog: https://dev.classmethod.jp/etc/parse-my-article-using-beautiful-soup/\n|    | TF上位        | TF-IDF上位    |\n|---:|:--------------|:--------------|\n|  1 | 取得          | テキスト      |\n|  2 | テキスト      | 解析          |\n|  3 | ブログ        | beautifulsoup |\n|  4 | 解析          | find          |\n|  5 | beautifulsoup | 抽出          |\n\n## TOP 5 TF, TF-IDF of blog: https://dev.classmethod.jp/cloud/aws/devio2019-osaka-vpn-introduction/\n|    | TF上位       | TF-IDF上位            |\n|---:|:-------------|:----------------------|\n|  1 | ssl          | ssl                   |\n|  2 | vpn          | awsclientvpn          |\n|  3 | 2019         | vpn                   |\n|  4 | aws          | inosaka               |\n|  5 | awsclientvpn | virtualprivatenetwork |\n\n## TOP 5 TF, TF-IDF of blog: https://dev.classmethod.jp/cloud/aws/cmregrowth2019-osaka-tgw-update/\n|    | TF上位         | TF-IDF上位     |\n|---:|:---------------|:---------------|\n|  1 | invent         | transitgateway |\n|  2 | re             | growth         |\n|  3 | transitgateway | re             |\n|  4 | 2019           | invent         |\n|  5 | ネットワーク   | 16             |\n\n## TOP 5 TF, TF-IDF of blog: https://dev.classmethod.jp/cloud/aws/management-console-region-select-shinsetu/\n|    | TF上位       | TF-IDF上位   |\n|---:|:-------------|:-------------|\n|  1 | リージョン   | 地味         |\n|  2 | アップデート | 嬉しい       |\n|  3 | よう         | リージョン   |\n|  4 | コンソール   | アップデート |\n|  5 | コード       | リスト       |\n\n## TOP 5 TF, TF-IDF of blog: https://dev.classmethod.jp/cloud/aws/koneta-aws-waf-managed-rule-exception/\n|    | TF上位   | TF-IDF上位   |\n|---:|:---------|:-------------|\n|  1 | ruleid   | ruleid       |\n|  2 | ログ     | 例外         |\n|  3 | 例外     | awswaf       |\n|  4 | 登録     | count        |\n|  5 | awswaf   | ログ         |\n\n## TOP 5 TF, TF-IDF of blog: https://dev.classmethod.jp/etc/relay_looking_back_amazon_rds_2019/\n|    | TF上位         | TF-IDF上位     |\n|---:|:---------------|:---------------|\n|  1 | データベース   | データベース   |\n|  2 | aws            | リレーショナル |\n|  3 | rds            | amazonrds      |\n|  4 | こと           | rds            |\n|  5 | リレーショナル | mysql          |\n\n## TOP 5 TF, TF-IDF of blog: https://dev.classmethod.jp/etc/kawahara-join-201906/\n|    | TF上位       | TF-IDF上位   |\n|---:|:-------------|:-------------|\n|  1 | aws          | ゲーム       |\n|  2 | ゲーム       | 業務         |\n|  3 | ネットワーク | その後       |\n|  4 | 業務         | 最近         |\n|  5 | 構築         | join         |\n\n## TOP 5 TF, TF-IDF of blog: https://dev.classmethod.jp/cloud/aws/ssl-introduction-for-aws-client-vpn/\n|    | TF上位       | TF-IDF上位   |\n|---:|:-------------|:-------------|\n|  1 | ssl          | ssl          |\n|  2 | awsclientvpn | awsclientvpn |\n|  3 | vpn          | 証明         |\n|  4 | これら       | サーバー     |\n|  5 | サーバー     | これら       |\n\n## TOP 5 TF, TF-IDF of blog: https://dev.classmethod.jp/etc/org-mode-paste-show-clipboard-image/\n|    | TF上位   | TF-IDF上位   |\n|---:|:---------|:-------------|\n|  1 | org      | org          |\n|  2 | emacs    | クリップ     |\n|  3 | html     | 一言         |\n|  4 | md       | 強力         |\n|  5 | mode     | md           |\n\n## TOP 5 TF, TF-IDF of blog: https://dev.classmethod.jp/cloud/aws/serverless-streaming-process-pipelin-bestpractice/\n|    | TF上位        | TF-IDF上位             |\n|---:|:--------------|:-----------------------|\n|  1 | 処理          | 処理                   |\n|  2 | セッション    | パイプライン           |\n|  3 | パイプライン  | amazonkinesis          |\n|  4 | 2019          | andanalyticschallenges |\n|  5 | amazonkinesis | andmachinelearning     |\n\n## TOP 5 TF, TF-IDF of blog: https://dev.classmethod.jp/cloud/aws/ha-proxy-environment-using-nlb/\n|    | TF上位   | TF-IDF上位       |\n|---:|:---------|:-----------------|\n|  1 | nlb      | nlb              |\n|  2 | 作成     | autoscalinggroup |\n|  3 | 設定     | プロキシサーバー |\n|  4 | ip       | ターゲット       |\n|  5 | グループ | service          |\n\n## TOP 5 TF, TF-IDF of blog: https://dev.classmethod.jp/cloud/aws/transit-gateway-supports-multicast/\n|    | TF上位         | TF-IDF上位   |\n|---:|:---------------|:-------------|\n|  1 | キャスト       | キャスト     |\n|  2 | マルチ         | マルチ       |\n|  3 | tgw            | 受信         |\n|  4 | transitgateway | eni          |\n|  5 | ため           | tgw          |\n\n## TOP 5 TF, TF-IDF of blog: https://dev.classmethod.jp/cloud/aws/python-securitygroups-to-markdown/\n|    | TF上位          | TF-IDF上位      |\n|---:|:----------------|:----------------|\n|  1 | markdown        | pandas          |\n|  2 | pandas          | markdown        |\n|  3 | 出力            | dataframe       |\n|  4 | dataframe       | 出力            |\n|  5 | jupyternotebook | jupyternotebook |\n\n## TOP 5 TF, TF-IDF of blog: https://dev.classmethod.jp/cloud/aws/cdk-python-cfnbucket-policy/\n|    | TF上位   | TF-IDF上位      |\n|---:|:---------|:----------------|\n|  1 | バケット | バケット        |\n|  2 | 作成     | ポリシー        |\n|  3 | ポリシー | cfnbucketpolicy |\n|  4 | リソース | policy          |\n|  5 | aws      | document        |\n\n## TOP 5 TF, TF-IDF of blog: https://dev.classmethod.jp/cloud/aws/best-practiceof-making-cfn-reinvent2019/\n|    | TF上位       | TF-IDF上位       |\n|---:|:-------------|:-----------------|\n|  1 | スタック     | スタック         |\n|  2 | 作成         | セット           |\n|  3 | テンプレート | テスト           |\n|  4 | セット       | テンプレート     |\n|  5 | リソース     | visualstudiocode |\n\n## TOP 5 TF, TF-IDF of blog: https://dev.classmethod.jp/cloud/aws/cfn-tempolary-use-of-ssm/\n|    | TF上位       | TF-IDF上位               |\n|---:|:-------------|:-------------------------|\n|  1 | vpc          | エンド                   |\n|  2 | 作成         | runcommand               |\n|  3 | ec           | ポイント                 |\n|  4 | インスタンス | sessionmanager           |\n|  5 | エンド       | systemsmanagerruncommand |\n\n## TOP 5 TF, TF-IDF of blog: https://dev.classmethod.jp/cloud/aws/aws-nw-architectures-net320/\n|    | TF上位         | TF-IDF上位     |\n|---:|:---------------|:---------------|\n|  1 | vpc            | vpc            |\n|  2 | 接続           | privatelink    |\n|  3 | 構成           | transitgateway |\n|  4 | transitgateway | 接続           |\n|  5 | aws            | アーキテクチャ |\n\n## TOP 5 TF, TF-IDF of blog: https://dev.classmethod.jp/cloud/aws/ssm-run-command-on-purivate-subnet/\n|    | TF上位   | TF-IDF上位   |\n|---:|:---------|:-------------|\n|  1 | 作成     | amazonaws    |\n|  2 | エンド   | エンド       |\n|  3 | ポイント | northeast    |\n|  4 | vpc      | ap           |\n|  5 | ap       | ポイント     |\n\n## TOP 5 TF, TF-IDF of blog: https://dev.classmethod.jp/etc/mac-powershell-core-6-2/\n|    | TF上位         | TF-IDF上位     |\n|---:|:---------------|:---------------|\n|  1 | powershell     | powershell     |\n|  2 | 実行           | エイリアス     |\n|  3 | エイリアス     | mac            |\n|  4 | mac            | powershellcore |\n|  5 | powershellcore | profile        |\n\n## TOP 5 TF, TF-IDF of blog: https://dev.classmethod.jp/cloud/aws/tgw-network-manager-with-cli/\n|    | TF上位       | TF-IDF上位   |\n|---:|:-------------|:-------------|\n|  1 | 実行         | リンク       |\n|  2 | ネットワーク | synopsis     |\n|  3 | 登録         | create       |\n|  4 | 作成         | デバイス     |\n|  5 | サイト       | 登録         |\n\n## TOP 5 TF, TF-IDF of blog: https://dev.classmethod.jp/cloud/aws/use-proxy-server-over-vpcpeering/\n|    | TF上位     | TF-IDF上位   |\n|---:|:-----------|:-------------|\n|  1 | vpc        | ピアリング   |\n|  2 | ピアリング | vpc          |\n|  3 | 作成       | サーバー     |\n|  4 | サーバー   | dx           |\n|  5 | サービス   | nat          |\n\n## TOP 5 TF, TF-IDF of blog: https://dev.classmethod.jp/etc/waf-athena-excel/\n|    | TF上位     | TF-IDF上位   |\n|---:|:-----------|:-------------|\n|  1 | クエリ     | クエリ       |\n|  2 | 確認       | athena       |\n|  3 | athena     | waf          |\n|  4 | よう       | リクエスト   |\n|  5 | リクエスト | cross        |\n\n## TOP 5 TF, TF-IDF of blog: https://dev.classmethod.jp/etc/emacs-setup-and-org-mode/\n|    | TF上位       | TF-IDF上位   |\n|---:|:-------------|:-------------|\n|  1 | emacs        | emacs        |\n|  2 | 設定         | mode         |\n|  3 | mode         | ido          |\n|  4 | インストール | org          |\n|  5 | org          | homebrew     |\n\n## TOP 5 TF, TF-IDF of blog: https://dev.classmethod.jp/cloud/aws/cfn-helper-scripts-using-pwsh-sdk/\n|    | TF上位       | TF-IDF上位   |\n|---:|:-------------|:-------------|\n|  1 | スタック     | スタック     |\n|  2 | 作成         | cfnchangeset |\n|  3 | 更新         | 更新         |\n|  4 | cfnchangeset | complete     |\n|  5 | 変更         | get          |\n\n## TOP 5 TF, TF-IDF of blog: https://dev.classmethod.jp/cloud/aws/aim214-introduction-of-sagemaker-studio/\n|    | TF上位                | TF-IDF上位            |\n|---:|:----------------------|:----------------------|\n|  1 | sagemaker             | sagemaker             |\n|  2 | 学習                  | amazonsagemakerstudio |\n|  3 | 機械                  | 機械                  |\n|  4 | 2019                  | 学習                  |\n|  5 | amazonsagemakerstudio | ide                   |\n\n## TOP 5 TF, TF-IDF of blog: https://dev.classmethod.jp/server-side/python/deepracer-matplotlib-pandas/\n|    | TF上位     | TF-IDF上位   |\n|---:|:-----------|:-------------|\n|  1 | pandas     | matplotlib   |\n|  2 | matplotlib | pandas       |\n|  3 | ログ       | 走行         |\n|  4 | 走行       | サーキット   |\n|  5 | csv        | ログ         |\n\n## TOP 5 TF, TF-IDF of blog: https://dev.classmethod.jp/etc/org-mode-re-reveal/\n|    | TF上位   | TF-IDF上位   |\n|---:|:---------|:-------------|\n|  1 | org      | reveal       |\n|  2 | reveal   | org          |\n|  3 | スライド | スライド     |\n|  4 | pdf      | js           |\n|  5 | js       | pdf          |\n\n## TOP 5 TF, TF-IDF of blog: https://dev.classmethod.jp/cloud/azure/azure-cisco-site-to-site-vpn/\n|    | TF上位   | TF-IDF上位   |\n|---:|:---------|:-------------|\n|  1 | vpn      | azure        |\n|  2 | 自宅     | 自宅         |\n|  3 | azure    | vpn          |\n|  4 | 接続     | ike          |\n|  5 | 作成     | cisco        |\n\n## TOP 5 TF, TF-IDF of blog: https://dev.classmethod.jp/cloud/aws/org-mode-run-awscli/\n|    | TF上位   | TF-IDF上位   |\n|---:|:---------|:-------------|\n|  1 | 実行     | org          |\n|  2 | org      | mfa          |\n|  3 | aws      | path         |\n|  4 | json     | role         |\n|  5 | mfa      | 認証         |\n\n## TOP 5 TF, TF-IDF of blog: https://dev.classmethod.jp/cloud/aws/stg202-whatsnew-aws-file-storage/\n|    | TF上位       | TF-IDF上位                    |\n|---:|:-------------|:------------------------------|\n|  1 | セッション   | ストレージ                    |\n|  2 | aws          | 事例                          |\n|  3 | アップデート | セッション                    |\n|  4 | ストレージ   | amazonefs                     |\n|  5 | ファイル     | amazonfsxforwindowsfileserver |\n\n## TOP 5 TF, TF-IDF of blog: https://dev.classmethod.jp/cloud/aws/container-night-2019-10-28/\n|    | TF上位   | TF-IDF上位   |\n|---:|:---------|:-------------|\n|  1 | コンテナ | コンテナ     |\n|  2 | ec       | fargate      |\n|  3 | 起動     | 起動         |\n|  4 | こと     | ecs          |\n|  5 | 利用     | タイプ       |\n\n## TOP 5 TF, TF-IDF of blog: https://dev.classmethod.jp/etc/azure-first-vm/\n|    | TF上位     | TF-IDF上位         |\n|---:|:-----------|:-------------------|\n|  1 | 作成       | azure              |\n|  2 | azure      | サブスクリプション |\n|  3 | リソース   | 無料               |\n|  4 | 仮想       | アカウント         |\n|  5 | アカウント | 仮想               |\n\n## TOP 5 TF, TF-IDF of blog: https://dev.classmethod.jp/cloud/aws-summit-tokyo-2019-c3-01-container/\n|    | TF上位   | TF-IDF上位         |\n|---:|:---------|:-------------------|\n|  1 | コンテナ | コンテナ           |\n|  2 | サービス | イメージ           |\n|  3 | 実行     | アプリケーション   |\n|  4 | aws      | イメージレジストリ |\n|  5 | ec       | 連携               |\n\n## TOP 5 TF, TF-IDF of blog: https://dev.classmethod.jp/etc/powershell-core-6-psreadline/\n|    | TF上位       | TF-IDF上位           |\n|---:|:-------------|:---------------------|\n|  1 | 設定         | キーバインド         |\n|  2 | キーバインド | set                  |\n|  3 | 変更         | psreadline           |\n|  4 | set          | psreadlinekeyhandler |\n|  5 | psreadline   | psreadlineoption     |\n\n## TOP 5 TF, TF-IDF of blog: https://dev.classmethod.jp/cloud/aws/try-accelerated-site-to-site-vpn/\n|    | TF上位   | TF-IDF上位        |\n|---:|:---------|:------------------|\n|  1 | vpn      | vpn               |\n|  2 | サイト   | accelerated       |\n|  3 | aws      | globalaccelerator |\n|  4 | ip       | サイト            |\n|  5 | 作成     | accelerator       |\n\n## TOP 5 TF, TF-IDF of blog: https://dev.classmethod.jp/cloud/aws/cloudtrail-athena-s3-object-survey/\n|    | TF上位       | TF-IDF上位   |\n|---:|:-------------|:-------------|\n|  1 | バケット     | バケット     |\n|  2 | パブリック   | cloudtrail   |\n|  3 | 作成         | 投稿         |\n|  4 | cloudtrail   | パブリック   |\n|  5 | オブジェクト | オブジェクト |\n"
    }
   ],
   "source": [
    "import pandas as pd\n",
    "n = 5\n",
    "for b_idx in BLOG.keys():\n",
    "    print(\"\\n## TOP {} TF, TF-IDF of blog: {}\".format(n, BLOG[b_idx][\"url\"]))\n",
    "    tfs_sorted = sorted(enumerate(BLOG[b_idx][\"tf\"]), key=lambda x:x[1], reverse=True)\n",
    "    tfidfs_sorted = sorted(enumerate(BLOG[b_idx][\"tfidf\"]), key=lambda x:x[1], reverse=True)\n",
    "    # display\n",
    "    buffer = [\n",
    "        [i+1, WORDS[tfs_sorted[i][0]], WORDS[tfidfs_sorted[i][0]]]\n",
    "        for i in range(0,n)\n",
    "    ]\n",
    "    print(pd.DataFrame(buffer, columns=[\"\", \"TF上位\", \"TF-IDF上位\"]).to_markdown(showindex=False))"
   ]
  }
 ]
}