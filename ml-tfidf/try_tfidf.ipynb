{
 "nbformat": 4,
 "nbformat_minor": 2,
 "metadata": {
  "language_info": {
   "name": "python",
   "codemirror_mode": {
    "name": "ipython",
    "version": 3
   },
   "version": "3.7.3-final"
  },
  "orig_nbformat": 2,
  "file_extension": ".py",
  "mimetype": "text/x-python",
  "name": "python",
  "npconvert_exporter": "python",
  "pygments_lexer": "ipython3",
  "version": 3,
  "kernelspec": {
   "name": "python37364bite930ee9900214d1f9a80f7dd70acd4dd",
   "display_name": "Python 3.7.3 64-bit"
  }
 },
 "cells": [
  {
   "cell_type": "markdown",
   "metadata": {},
   "source": [
    "# セットアップ"
   ]
  },
  {
   "cell_type": "code",
   "execution_count": 64,
   "metadata": {},
   "outputs": [
    {
     "name": "stdout",
     "output_type": "stream",
     "text": "Requirement already satisfied: requests in ./venv/lib/python3.7/site-packages (2.23.0)\nRequirement already satisfied: certifi>=2017.4.17 in ./venv/lib/python3.7/site-packages (from requests) (2019.11.28)\nRequirement already satisfied: urllib3!=1.25.0,!=1.25.1,<1.26,>=1.21.1 in ./venv/lib/python3.7/site-packages (from requests) (1.25.8)\nRequirement already satisfied: idna<3,>=2.5 in ./venv/lib/python3.7/site-packages (from requests) (2.9)\nRequirement already satisfied: chardet<4,>=3.0.2 in ./venv/lib/python3.7/site-packages (from requests) (3.0.4)\n\u001b[33mYou are using pip version 19.0.3, however version 20.0.2 is available.\nYou should consider upgrading via the 'pip install --upgrade pip' command.\u001b[0m\nRequirement already satisfied: beautifulsoup4 in ./venv/lib/python3.7/site-packages (4.8.2)\nRequirement already satisfied: soupsieve>=1.2 in ./venv/lib/python3.7/site-packages (from beautifulsoup4) (2.0)\n\u001b[33mYou are using pip version 19.0.3, however version 20.0.2 is available.\nYou should consider upgrading via the 'pip install --upgrade pip' command.\u001b[0m\nRequirement already satisfied: janome in ./venv/lib/python3.7/site-packages (0.3.10)\n\u001b[33mYou are using pip version 19.0.3, however version 20.0.2 is available.\nYou should consider upgrading via the 'pip install --upgrade pip' command.\u001b[0m\nCollecting scikit-learn\n  Using cached https://files.pythonhosted.org/packages/2f/c3/431de428dee36c577dec2097130fc5da8ebf8b51b0349e85d1cfa2088595/scikit_learn-0.22.2-cp37-cp37m-macosx_10_9_x86_64.whl\nCollecting scipy>=0.17.0 (from scikit-learn)\n  Using cached https://files.pythonhosted.org/packages/85/7a/ae480be23b768910a9327c33517ced4623ba88dc035f9ce0206657c353a9/scipy-1.4.1-cp37-cp37m-macosx_10_6_intel.whl\nCollecting numpy>=1.11.0 (from scikit-learn)\n  Using cached https://files.pythonhosted.org/packages/2f/5b/2cc2b9285e8b2ca8d2c1e4a2cbf1b12d70a2488ea78170de1909bca725f2/numpy-1.18.1-cp37-cp37m-macosx_10_9_x86_64.whl\nCollecting joblib>=0.11 (from scikit-learn)\n  Using cached https://files.pythonhosted.org/packages/28/5c/cf6a2b65a321c4a209efcdf64c2689efae2cb62661f8f6f4bb28547cf1bf/joblib-0.14.1-py2.py3-none-any.whl\nInstalling collected packages: numpy, scipy, joblib, scikit-learn\nSuccessfully installed joblib-0.14.1 numpy-1.18.1 scikit-learn-0.22.2 scipy-1.4.1\n\u001b[33mYou are using pip version 19.0.3, however version 20.0.2 is available.\nYou should consider upgrading via the 'pip install --upgrade pip' command.\u001b[0m\nPackage        Version   \n-------------- ----------\nautopep8       1.5       \nbeautifulsoup4 4.8.2     \ncertifi        2019.11.28\nchardet        3.0.4     \nidna           2.9       \nJanome         0.3.10    \njoblib         0.14.1    \nnumpy          1.18.1    \npip            19.0.3    \npycodestyle    2.5.0     \nrequests       2.23.0    \nscikit-learn   0.22.2    \nscipy          1.4.1     \nsetuptools     40.8.0    \nsoupsieve      2.0       \nurllib3        1.25.8    \n\u001b[33mYou are using pip version 19.0.3, however version 20.0.2 is available.\nYou should consider upgrading via the 'pip install --upgrade pip' command.\u001b[0m\n"
    }
   ],
   "source": [
    "!pip install requests\n",
    "!pip install beautifulsoup4\n",
    "!pip install janome\n",
    "!pip install scikit-learn\n",
    "!pip list"
   ]
  },
  {
   "cell_type": "code",
   "execution_count": 3,
   "metadata": {},
   "outputs": [],
   "source": [
    "import sys,time\n",
    "venv_packages = '/Users/kawahara.masahiro/org/devio/ml-tfidf/venv/lib/python3.7/site-packages'\n",
    "if venv_packages not in sys.path:\n",
    "    sys.path.append(venv_packages)"
   ]
  },
  {
   "cell_type": "markdown",
   "metadata": {},
   "source": [
    "# 前処理: 情報取得"
   ]
  },
  {
   "cell_type": "markdown",
   "metadata": {},
   "source": [
    "## 対象のURLリスト取得\n",
    "- 対象のURLリストは \"./contents/url_list.txt\" に格納しています"
   ]
  },
  {
   "cell_type": "code",
   "execution_count": 4,
   "metadata": {},
   "outputs": [
    {
     "name": "stdout",
     "output_type": "stream",
     "text": "len(url_list): 48\nurl_list[0]: https://dev.classmethod.jp/cloud/aws/on-premise-reverse-proxy-using-alb/\n"
    }
   ],
   "source": [
    "url_list_path = \"./contents/url_list.txt\"\n",
    "url_list = []\n",
    "with open(url_list_path) as f:\n",
    "    url_list = [l.replace('\\n', '') for l in f.readlines()]\n",
    "print(\"len(url_list): {}\".format(len(url_list)))\n",
    "print(\"url_list[0]: {}\".format(url_list[0]))"
   ]
  },
  {
   "cell_type": "markdown",
   "metadata": {},
   "source": [
    "## マッピング作成\n",
    "- インデックス\n",
    "    - ブログURL\n",
    "    - ブログテキスト\n",
    "    - 他、分かち書きした結果など"
   ]
  },
  {
   "cell_type": "code",
   "execution_count": 49,
   "metadata": {},
   "outputs": [
    {
     "name": "stdout",
     "output_type": "stream",
     "text": "len(mapping): 48\n"
    }
   ],
   "source": [
    "mapping = {}\n",
    "for i, url in enumerate(url_list):\n",
    "    mapping[i] = {}\n",
    "    mapping[i][\"url\"] = url\n",
    "print(\"len(mapping): {}\".format(len(mapping)))"
   ]
  },
  {
   "cell_type": "markdown",
   "metadata": {},
   "source": [
    "## ブログテキストのリストを取得\n",
    "- 各URLリストから \"get_blog_texts\" 関数を使ってブログテキストを取得する"
   ]
  },
  {
   "cell_type": "code",
   "execution_count": 6,
   "metadata": {},
   "outputs": [],
   "source": [
    "from util.get_blog_texts import get_blog_texts"
   ]
  },
  {
   "cell_type": "code",
   "execution_count": 50,
   "metadata": {},
   "outputs": [
    {
     "name": "stdout",
     "output_type": "stream",
     "text": "i 0 getting texts from: https://dev.classmethod.jp/cloud/aws/on-premise-reverse-proxy-using-alb/\ni 1 getting texts from: https://dev.classmethod.jp/cloud/aws/aws-cisco-site-to-site-vpn/\ni 2 getting texts from: https://dev.classmethod.jp/cloud/aws/higobashi-aws-11-deepracer/\ni 3 getting texts from: https://dev.classmethod.jp/cloud/aws/aws-summit-osaka-2019-297-input-output/\ni 4 getting texts from: https://dev.classmethod.jp/cloud/aws/aws-cdk-intro-nw/\ni 5 getting texts from: https://dev.classmethod.jp/etc/summit-osaka-2019-299-basic/\ni 6 getting texts from: https://dev.classmethod.jp/cloud/aws/vscode-botostubs-boto3/\ni 7 getting texts from: https://dev.classmethod.jp/etc/site_vpn_azure_aws/\ni 8 getting texts from: https://dev.classmethod.jp/cloud/aws/awsspec-by-jupyter/\ni 9 getting texts from: https://dev.classmethod.jp/cloud/aws/deepracer-new-input-parameters/\ni 10 getting texts from: https://dev.classmethod.jp/cloud/aws/aws-summit-osaka-2019-298-security/\ni 11 getting texts from: https://dev.classmethod.jp/etc/cloudformation-templates-on-emacs/\ni 12 getting texts from: https://dev.classmethod.jp/etc/parse-my-article-using-beautiful-soup/\ni 13 getting texts from: https://dev.classmethod.jp/cloud/aws/devio2019-osaka-vpn-introduction/\ni 14 getting texts from: https://dev.classmethod.jp/cloud/aws/cmregrowth2019-osaka-tgw-update/\ni 15 getting texts from: https://dev.classmethod.jp/cloud/aws/management-console-region-select-shinsetu/\ni 16 getting texts from: https://dev.classmethod.jp/cloud/aws/koneta-aws-waf-managed-rule-exception/\ni 17 getting texts from: https://dev.classmethod.jp/etc/relay_looking_back_amazon_rds_2019/\ni 18 getting texts from: https://dev.classmethod.jp/etc/kawahara-join-201906/\ni 19 getting texts from: https://dev.classmethod.jp/cloud/aws/ssl-introduction-for-aws-client-vpn/\ni 20 getting texts from: https://dev.classmethod.jp/etc/org-mode-paste-show-clipboard-image/\ni 21 getting texts from: https://dev.classmethod.jp/cloud/aws/serverless-streaming-process-pipelin-bestpractice/\ni 22 getting texts from: https://dev.classmethod.jp/cloud/aws/ha-proxy-environment-using-nlb/\ni 23 getting texts from: https://dev.classmethod.jp/cloud/aws/transit-gateway-supports-multicast/\ni 24 getting texts from: https://dev.classmethod.jp/cloud/aws/python-securitygroups-to-markdown/\ni 25 getting texts from: https://dev.classmethod.jp/cloud/aws/cdk-python-cfnbucket-policy/\ni 26 getting texts from: https://dev.classmethod.jp/cloud/aws/best-practiceof-making-cfn-reinvent2019/\ni 27 getting texts from: https://dev.classmethod.jp/cloud/aws/cfn-tempolary-use-of-ssm/\ni 28 getting texts from: https://dev.classmethod.jp/cloud/aws/aws-nw-architectures-net320/\ni 29 getting texts from: https://dev.classmethod.jp/cloud/aws/ssm-run-command-on-purivate-subnet/\ni 30 getting texts from: https://dev.classmethod.jp/etc/mac-powershell-core-6-2/\ni 31 getting texts from: https://dev.classmethod.jp/cloud/aws/tgw-network-manager-with-cli/\ni 32 getting texts from: https://dev.classmethod.jp/cloud/aws/use-proxy-server-over-vpcpeering/\ni 33 getting texts from: https://dev.classmethod.jp/etc/waf-athena-excel/\ni 34 getting texts from: https://dev.classmethod.jp/etc/emacs-setup-and-org-mode/\ni 35 getting texts from: https://dev.classmethod.jp/cloud/aws/cfn-helper-scripts-using-pwsh-sdk/\ni 36 getting texts from: https://dev.classmethod.jp/cloud/aws/aim214-introduction-of-sagemaker-studio/\ni 37 getting texts from: https://dev.classmethod.jp/server-side/python/deepracer-matplotlib-pandas/\ni 38 getting texts from: https://dev.classmethod.jp/etc/org-mode-re-reveal/\ni 39 getting texts from: https://dev.classmethod.jp/cloud/azure/azure-cisco-site-to-site-vpn/\ni 40 getting texts from: https://dev.classmethod.jp/cloud/aws/org-mode-run-awscli/\ni 41 getting texts from: https://dev.classmethod.jp/cloud/aws/stg202-whatsnew-aws-file-storage/\ni 42 getting texts from: https://dev.classmethod.jp/cloud/aws/container-night-2019-10-28/\ni 43 getting texts from: https://dev.classmethod.jp/etc/azure-first-vm/\ni 44 getting texts from: https://dev.classmethod.jp/cloud/aws-summit-tokyo-2019-c3-01-container/\ni 45 getting texts from: https://dev.classmethod.jp/etc/powershell-core-6-psreadline/\ni 46 getting texts from: https://dev.classmethod.jp/cloud/aws/try-accelerated-site-to-site-vpn/\ni 47 getting texts from: https://dev.classmethod.jp/cloud/aws/cloudtrail-athena-s3-object-survey/\n"
    }
   ],
   "source": [
    "blog_texts = []\n",
    "for i in mapping.keys():\n",
    "    url = mapping[i][\"url\"]\n",
    "    print(\"i {} getting texts from: {}\".format(i, url))\n",
    "    mapping[i][\"texts\"] = get_blog_texts(url)\n",
    "    time.sleep(1)"
   ]
  },
  {
   "cell_type": "code",
   "execution_count": 54,
   "metadata": {},
   "outputs": [
    {
     "name": "stdout",
     "output_type": "stream",
     "text": "len(mapping[0][texts]): 65\nlen(mapping[0][texts][0]): Application Load Balancer (ALB), Network Load Balancer (NLB) はターゲットにローカルIPアドレス を指定できます。VPCピアリング接続先のインスタンスや、Direct Connect・VPN接続先のオンプレのサーバーをターゲットグループに登録することができます。\n"
    }
   ],
   "source": [
    "print(\"len(mapping[0][texts]): {}\".format(len(mapping[0][\"texts\"])))\n",
    "print(\"len(mapping[0][texts][0]): {}\".format(mapping[0][\"texts\"][0]))"
   ]
  },
  {
   "cell_type": "markdown",
   "metadata": {},
   "source": [
    "# 前処理: テキスト\n",
    "- 空白の削除\n",
    "- 全て小文字化"
   ]
  },
  {
   "cell_type": "code",
   "execution_count": 69,
   "metadata": {},
   "outputs": [],
   "source": [
    "for i in mapping.keys():\n",
    "    mapping[i][\"texts\"] = [t.replace(' ','').lower() for t in mapping[i][\"texts\"]]"
   ]
  },
  {
   "cell_type": "code",
   "execution_count": 56,
   "metadata": {},
   "outputs": [
    {
     "name": "stdout",
     "output_type": "stream",
     "text": "len(mapping[0][texts]): 65\nlen(mapping[0][texts][0]): APPLICATIONLOADBALANCER(ALB),NETWORKLOADBALANCER(NLB)はターゲットにローカルIPアドレスを指定できます。VPCピアリング接続先のインスタンスや、DIRECTCONNECT・VPN接続先のオンプレのサーバーをターゲットグループに登録することができます。\n"
    }
   ],
   "source": [
    "print(\"len(mapping[0][texts]): {}\".format(len(mapping[0][\"texts\"])))\n",
    "print(\"len(mapping[0][texts][0]): {}\".format(mapping[0][\"texts\"][0]))"
   ]
  },
  {
   "cell_type": "markdown",
   "metadata": {},
   "source": [
    "# janome で単語抽出\n",
    "- 各テキストの単語を抽出\n",
    "- mapping\\[i\\]\\[\"nouns\"\\] に格納\n",
    "## 参考\n",
    "- [Janome documentation](https://mocobeta.github.io/janome/)\n",
    "- [Janome API #POSStopFilter](https://mocobeta.github.io/janome/api/janome.html#janome.tokenfilter.POSStopFilter)\n",
    "- [Janome API #Token](https://mocobeta.github.io/janome/api/janome.html#janome.tokenizer.Token)"
   ]
  },
  {
   "cell_type": "code",
   "execution_count": 22,
   "metadata": {},
   "outputs": [],
   "source": [
    "from janome.tokenizer import Tokenizer\n",
    "from janome.analyzer import Analyzer\n",
    "from janome.charfilter import *\n",
    "from janome.tokenfilter import *"
   ]
  },
  {
   "cell_type": "code",
   "execution_count": 29,
   "metadata": {},
   "outputs": [],
   "source": [
    "tokenizer = Tokenizer()\n",
    "token_filters = [POSStopFilter(['記号','助詞','助動詞','動詞'])]\n",
    "a = Analyzer(tokenizer=tokenizer, token_filters=token_filters)"
   ]
  },
  {
   "cell_type": "code",
   "execution_count": 57,
   "metadata": {},
   "outputs": [
    {
     "name": "stdout",
     "output_type": "stream",
     "text": "len(test_tokens): 28\ntest_tokens[0]: APPLICATIONLOADBALANCER\t名詞,固有名詞,組織,*,*,*,APPLICATIONLOADBALANCER,*,*\n[t.surface for t in test_tokens[:5]]: APPLICATIONLOADBALANCER ( ALB ), NETWORKLOADBALANCER\n"
    }
   ],
   "source": [
    "test_tokens = [token for token in a.analyze(mapping[0][\"texts\"][0])]\n",
    "print(\"len(test_tokens): {}\".format(len(test_tokens)))\n",
    "print(\"test_tokens[0]: {}\".format(test_tokens[0]))\n",
    "print(\"[t.surface for t in test_tokens[:5]]: {}\".format(' '.join([t.surface for t in test_tokens[:5]])))"
   ]
  },
  {
   "cell_type": "code",
   "execution_count": 63,
   "metadata": {},
   "outputs": [
    {
     "name": "stdout",
     "output_type": "stream",
     "text": "mapping[0][nouns][:100]: APPLICATIONLOADBALANCER ( ALB ), NETWORKLOADBALANCER ( NLB ) ターゲット ローカル IP アドレス 指定 VPC ピアリング 接続 先 イン\n"
    }
   ],
   "source": [
    "for i in mapping.keys():\n",
    "    texts_flat = \"。\".join(mapping[i][\"texts\"])\n",
    "    tokens = [t for t in a.analyze(texts_flat)]\n",
    "    # 登録\n",
    "    mapping[i][\"nouns\"] = ' '.join([t.surface for t in tokens])\n",
    "print(\"mapping[0][nouns][:100]: {}\".format(mapping[0][\"nouns\"][:100]))"
   ]
  },
  {
   "cell_type": "markdown",
   "metadata": {},
   "source": [
    "# CountVectorizer で単語出現頻度を計算\n",
    "- `features` に名詞一覧\n",
    "- `mapping[i][\"bow\"]` に名詞出現数\n",
    "## 参考\n",
    "- [CountVectorizer](https://scikit-learn.org/stable/modules/generated/sklearn.feature_extraction.text.CountVectorizer.html)"
   ]
  },
  {
   "cell_type": "code",
   "execution_count": 72,
   "metadata": {},
   "outputs": [],
   "source": [
    "from sklearn.feature_extraction.text import CountVectorizer\n",
    "import random\n",
    "vectorizer = CountVectorizer()"
   ]
  },
  {
   "cell_type": "code",
   "execution_count": 75,
   "metadata": {},
   "outputs": [],
   "source": [
    "X = vectorizer.fit_transform([mapping[i][\"nouns\"] for i in mapping.keys()])"
   ]
  },
  {
   "cell_type": "code",
   "execution_count": 115,
   "metadata": {},
   "outputs": [
    {
     "name": "stdout",
     "output_type": "stream",
     "text": "5 samples of features: ['dstsrcstateconn', 'コンセプト', '09', '高い', '改善']\nbow of mapping[0]: [1 0 1 ... 0 0 0]\nurl of mapping[0]: https://dev.classmethod.jp/cloud/aws/on-premise-reverse-proxy-using-alb/\nlist high(>=5) frequency words of mapping[0]\n  - 13: alb(112)\n  - 5: app(166)\n  - 5: http(546)\n  - 7: ip(603)\n  - 5: vpc(1158)\n  - 5: こと(1272)\n  - 8: オンプレサーバー(1481)\n  - 7: サーバー(1585)\n  - 6: サービス(1586)\n  - 11: ターゲット(1665)\n  - 5: ローカル(1951)\n  - 12: 作成(2046)\n  - 6: 指定(2365)\n  - 6: 接続(2369)\n  - 6: 検証(2471)\n  - 10: 構築(2481)\n  - 9: 環境(2551)\n  - 5: 通信(2759)\n"
    }
   ],
   "source": [
    "features = vectorizer.get_feature_names()\n",
    "bows = X.toarray()\n",
    "for i, bow in enumerate(bows):\n",
    "    mapping[i][\"bow\"] = bow\n",
    "print(\"5 samples of features: {}\".format(random.sample(features, 5)))\n",
    "print(\"bow of mapping[0]: {}\".format(mapping[0][\"bow\"]))\n",
    "print(\"url of mapping[0]: {}\".format(mapping[0][\"url\"]))\n",
    "print(\"list high(>=5) frequency words of mapping[0]\")\n",
    "for i, count in enumerate(mapping[0][\"bow\"]):\n",
    "    if count >= 5:\n",
    "        print(\"  - {}: {}({})\".format(count, features[i], i))"
   ]
  },
  {
   "cell_type": "markdown",
   "metadata": {},
   "source": [
    "# TF値の計算式導出関数を作ってみる\n",
    "## 参考\n",
    "- [【技術解説】単語の重要度を測る？TF-IDFとOkapi BM25の計算方法とは](https://mieruca-ai.com/ai/tf-idf_okapi-bm25/)"
   ]
  },
  {
   "cell_type": "code",
   "execution_count": 172,
   "metadata": {},
   "outputs": [],
   "source": [
    "def calc_tf(word, blog_index):\n",
    "    \"\"\"blog_index 番目のブログの word の TF値を算出する\"\"\"\n",
    "    # word, blogがない場合は 0を返す\n",
    "    if (word not in features) or (mapping.get(blog_index) == None):\n",
    "        return 0.0\n",
    "    # ある場合、計算\n",
    "    # ### word の出現回数の和\n",
    "    word_count = mapping[blog_index][\"bow\"][features.index(word)]\n",
    "    if word_count == 0:\n",
    "        return 0.0\n",
    "    # ### 全ての単語の出現回数の和\n",
    "    sum_of_words = sum(mapping[blog_index][\"bow\"])\n",
    "    # TF値計計算\n",
    "    return word_count/float(sum_of_words)"
   ]
  },
  {
   "cell_type": "markdown",
   "metadata": {},
   "source": [
    "## 1blogの TF値を計算してみる"
   ]
  },
  {
   "cell_type": "code",
   "execution_count": 176,
   "metadata": {},
   "outputs": [
    {
     "name": "stdout",
     "output_type": "stream",
     "text": "----- TF values of https://dev.classmethod.jp/cloud/aws/on-premise-reverse-proxy-using-alb/\nalb\t0.040498442367601244\n作成\t0.037383177570093455\nターゲット\t0.03426791277258567\n構築\t0.03115264797507788\n環境\t0.028037383177570093\nオンプレサーバー\t0.024922118380062305\nip\t0.021806853582554516\nサーバー\t0.021806853582554516\nサービス\t0.018691588785046728\n指定\t0.018691588785046728\n"
    }
   ],
   "source": [
    "print(\"----- TF values of {}\".format(mapping[0][\"url\"]))\n",
    "mapping[0][\"tfs\"] = [calc_tf(word, 0) for word in features]\n",
    "best10 = sorted(enumerate(mapping[0][\"tfs\"]), key=lambda x:x[1], reverse=True)[:10]\n",
    "for i, tf in best10:\n",
    "    print(\"{}\\t{}\".format(features[i], tf))"
   ]
  },
  {
   "cell_type": "markdown",
   "metadata": {},
   "source": [
    "## 全ブログの TF値を計算する"
   ]
  },
  {
   "cell_type": "code",
   "execution_count": 175,
   "metadata": {},
   "outputs": [],
   "source": [
    "for i in mapping.keys():\n",
    "    mapping[i][\"tfs\"] = [calc_tf(word, i) for word in features]"
   ]
  },
  {
   "cell_type": "code",
   "execution_count": 187,
   "metadata": {},
   "outputs": [
    {
     "name": "stdout",
     "output_type": "stream",
     "text": "\n--- TOP 3 TF values of https://dev.classmethod.jp/cloud/aws/on-premise-reverse-proxy-using-alb/\nalb\t0.040498442367601244\n作成\t0.037383177570093455\nターゲット\t0.03426791277258567\n構築\t0.03115264797507788\n環境\t0.028037383177570093\n\n--- TOP 3 TF values of https://dev.classmethod.jp/cloud/aws/aws-cisco-site-to-site-vpn/\naws\t0.041025641025641026\nvpn\t0.038461538461538464\n自宅\t0.035897435897435895\n接続\t0.03333333333333333\nactive\t0.028205128205128206\n\n--- TOP 3 TF values of https://dev.classmethod.jp/cloud/aws/higobashi-aws-11-deepracer/\naws\t0.0449438202247191\n料金\t0.0449438202247191\nawsdeepracer\t0.033707865168539325\nusd\t0.033707865168539325\n時間\t0.033707865168539325\n\n--- TOP 3 TF values of https://dev.classmethod.jp/cloud/aws/aws-summit-osaka-2019-297-input-output/\naws\t0.06353591160220995\n情報\t0.04419889502762431\n技術\t0.03314917127071823\nトレーニング\t0.019337016574585635\n最新\t0.019337016574585635\n\n--- TOP 3 TF values of https://dev.classmethod.jp/cloud/aws/aws-cdk-intro-nw/\n作成\t0.05813953488372093\nリソース\t0.03488372093023256\nvpc\t0.03197674418604651\nこと\t0.023255813953488372\ncloudformation\t0.020348837209302327\n\n--- TOP 3 TF values of https://dev.classmethod.jp/etc/summit-osaka-2019-299-basic/\naws\t0.030959752321981424\nインスタンス\t0.030959752321981424\nサービス\t0.030959752321981424\nストレージ\t0.030959752321981424\nec\t0.021671826625386997\n\n--- TOP 3 TF values of https://dev.classmethod.jp/cloud/aws/vscode-botostubs-boto3/\nbotostubs\t0.05737704918032787\nvscode\t0.040983606557377046\npython\t0.03278688524590164\nこと\t0.03278688524590164\nインストール\t0.03278688524590164\n\n--- TOP 3 TF values of https://dev.classmethod.jp/etc/site_vpn_azure_aws/\n作成\t0.059961315280464215\nvpn\t0.04061895551257253\n仮想\t0.04061895551257253\n接続\t0.03868471953578337\naws\t0.0367504835589942\n\n--- TOP 3 TF values of https://dev.classmethod.jp/cloud/aws/awsspec-by-jupyter/\nnotebook\t0.03856749311294766\nhtml\t0.03305785123966942\njupyternotebook\t0.027548209366391185\nec\t0.024793388429752067\npandas\t0.024793388429752067\n\n--- TOP 3 TF values of https://dev.classmethod.jp/cloud/aws/deepracer-new-input-parameters/\nobject\t0.048484848484848485\nパラメータ\t0.04242424242424243\nobjects\t0.03333333333333333\nbot\t0.01818181818181818\nカー\t0.01818181818181818\n\n--- TOP 3 TF values of https://dev.classmethod.jp/cloud/aws/aws-summit-osaka-2019-298-security/\naws\t0.056022408963585436\nセキュリティ\t0.05042016806722689\nベストプラクティス\t0.028011204481792718\nサービス\t0.025210084033613446\nお客様\t0.0196078431372549\n\n--- TOP 3 TF values of https://dev.classmethod.jp/etc/cloudformation-templates-on-emacs/\nテンプレート\t0.050808314087759814\ncfn\t0.04157043879907621\nmode\t0.03464203233256351\nyaml\t0.03002309468822171\nコード\t0.03002309468822171\n\n--- TOP 3 TF values of https://dev.classmethod.jp/etc/parse-my-article-using-beautiful-soup/\n取得\t0.04411764705882353\nテキスト\t0.03676470588235294\nブログ\t0.03308823529411765\n解析\t0.03308823529411765\nbeautifulsoup\t0.025735294117647058\n\n--- TOP 3 TF values of https://dev.classmethod.jp/cloud/aws/devio2019-osaka-vpn-introduction/\nssl\t0.07894736842105263\nvpn\t0.07894736842105263\n2019\t0.05263157894736842\naws\t0.05263157894736842\nawsclientvpn\t0.05263157894736842\n\n--- TOP 3 TF values of https://dev.classmethod.jp/cloud/aws/cmregrowth2019-osaka-tgw-update/\ninvent\t0.04819277108433735\nre\t0.04819277108433735\ntransitgateway\t0.04819277108433735\n2019\t0.03614457831325301\nネットワーク\t0.03614457831325301\n\n--- TOP 3 TF values of https://dev.classmethod.jp/cloud/aws/management-console-region-select-shinsetu/\nリージョン\t0.0975609756097561\nアップデート\t0.07317073170731707\nよう\t0.04878048780487805\nコンソール\t0.04878048780487805\nコード\t0.04878048780487805\n\n--- TOP 3 TF values of https://dev.classmethod.jp/cloud/aws/koneta-aws-waf-managed-rule-exception/\nruleid\t0.06299212598425197\nログ\t0.047244094488188976\n例外\t0.047244094488188976\n登録\t0.047244094488188976\nawswaf\t0.03937007874015748\n\n--- TOP 3 TF values of https://dev.classmethod.jp/etc/relay_looking_back_amazon_rds_2019/\nデータベース\t0.03621730382293763\naws\t0.026156941649899398\nrds\t0.02414486921529175\nこと\t0.02414486921529175\nリレーショナル\t0.02012072434607646\n\n--- TOP 3 TF values of https://dev.classmethod.jp/etc/kawahara-join-201906/\naws\t0.09090909090909091\nゲーム\t0.045454545454545456\nネットワーク\t0.045454545454545456\n業務\t0.045454545454545456\n構築\t0.045454545454545456\n\n--- TOP 3 TF values of https://dev.classmethod.jp/cloud/aws/ssl-introduction-for-aws-client-vpn/\nssl\t0.08888888888888889\nawsclientvpn\t0.07777777777777778\nvpn\t0.03333333333333333\nこれら\t0.03333333333333333\nサーバー\t0.03333333333333333\n\n--- TOP 3 TF values of https://dev.classmethod.jp/etc/org-mode-paste-show-clipboard-image/\norg\t0.058823529411764705\nemacs\t0.029411764705882353\nhtml\t0.029411764705882353\nmd\t0.029411764705882353\nmode\t0.029411764705882353\n\n--- TOP 3 TF values of https://dev.classmethod.jp/cloud/aws/serverless-streaming-process-pipelin-bestpractice/\n処理\t0.061224489795918366\nセッション\t0.04081632653061224\nパイプライン\t0.04081632653061224\n2019\t0.02040816326530612\namazonkinesis\t0.02040816326530612\n\n--- TOP 3 TF values of https://dev.classmethod.jp/cloud/aws/ha-proxy-environment-using-nlb/\nnlb\t0.037894736842105266\n作成\t0.03368421052631579\n設定\t0.023157894736842106\nip\t0.021052631578947368\nグループ\t0.016842105263157894\n\n--- TOP 3 TF values of https://dev.classmethod.jp/cloud/aws/transit-gateway-supports-multicast/\nキャスト\t0.04371584699453552\nマルチ\t0.04371584699453552\ntgw\t0.02185792349726776\ntransitgateway\t0.02185792349726776\nため\t0.02185792349726776\n\n--- TOP 3 TF values of https://dev.classmethod.jp/cloud/aws/python-securitygroups-to-markdown/\nmarkdown\t0.06382978723404255\npandas\t0.05673758865248227\n出力\t0.04964539007092199\ndataframe\t0.0425531914893617\njupyternotebook\t0.03546099290780142\n\n--- TOP 3 TF values of https://dev.classmethod.jp/cloud/aws/cdk-python-cfnbucket-policy/\nバケット\t0.05263157894736842\n作成\t0.04048582995951417\nポリシー\t0.03643724696356275\nリソース\t0.02834008097165992\naws\t0.024291497975708502\n\n--- TOP 3 TF values of https://dev.classmethod.jp/cloud/aws/best-practiceof-making-cfn-reinvent2019/\nスタック\t0.04522613065326633\n作成\t0.02763819095477387\nテンプレート\t0.02512562814070352\nセット\t0.022613065326633167\nリソース\t0.020100502512562814\n\n--- TOP 3 TF values of https://dev.classmethod.jp/cloud/aws/cfn-tempolary-use-of-ssm/\nvpc\t0.05747126436781609\n作成\t0.05747126436781609\nec\t0.04597701149425287\nインスタンス\t0.04597701149425287\nエンド\t0.04597701149425287\n\n--- TOP 3 TF values of https://dev.classmethod.jp/cloud/aws/aws-nw-architectures-net320/\nvpc\t0.058530510585305104\n接続\t0.0273972602739726\n構成\t0.021170610211706103\ntransitgateway\t0.019925280199252802\naws\t0.017434620174346202\n\n--- TOP 3 TF values of https://dev.classmethod.jp/cloud/aws/ssm-run-command-on-purivate-subnet/\n作成\t0.04985337243401759\nエンド\t0.04105571847507331\nポイント\t0.04105571847507331\nvpc\t0.03812316715542522\nap\t0.03225806451612903\n\n--- TOP 3 TF values of https://dev.classmethod.jp/etc/mac-powershell-core-6-2/\npowershell\t0.05963302752293578\n実行\t0.045871559633027525\nエイリアス\t0.03211009174311927\nmac\t0.027522935779816515\npowershellcore\t0.027522935779816515\n\n--- TOP 3 TF values of https://dev.classmethod.jp/cloud/aws/tgw-network-manager-with-cli/\n実行\t0.044270833333333336\nネットワーク\t0.041666666666666664\n登録\t0.033854166666666664\n作成\t0.03125\nサイト\t0.028645833333333332\n\n--- TOP 3 TF values of https://dev.classmethod.jp/cloud/aws/use-proxy-server-over-vpcpeering/\nvpc\t0.04220779220779221\nピアリング\t0.025974025974025976\n作成\t0.025974025974025976\nサーバー\t0.022727272727272728\nサービス\t0.022727272727272728\n\n--- TOP 3 TF values of https://dev.classmethod.jp/etc/waf-athena-excel/\nクエリ\t0.03017241379310345\n確認\t0.02586206896551724\nathena\t0.021551724137931036\nよう\t0.021551724137931036\nリクエスト\t0.021551724137931036\n\n--- TOP 3 TF values of https://dev.classmethod.jp/etc/emacs-setup-and-org-mode/\nemacs\t0.04304635761589404\n設定\t0.03642384105960265\nmode\t0.033112582781456956\nインストール\t0.029801324503311258\norg\t0.019867549668874173\n\n--- TOP 3 TF values of https://dev.classmethod.jp/cloud/aws/cfn-helper-scripts-using-pwsh-sdk/\nスタック\t0.07028753993610223\n作成\t0.051118210862619806\n更新\t0.02875399361022364\ncfnchangeset\t0.022364217252396165\n変更\t0.022364217252396165\n\n--- TOP 3 TF values of https://dev.classmethod.jp/cloud/aws/aim214-introduction-of-sagemaker-studio/\nsagemaker\t0.029535864978902954\n学習\t0.029535864978902954\n機械\t0.02531645569620253\n2019\t0.02109704641350211\namazonsagemakerstudio\t0.02109704641350211\n\n--- TOP 3 TF values of https://dev.classmethod.jp/server-side/python/deepracer-matplotlib-pandas/\npandas\t0.041666666666666664\nmatplotlib\t0.03888888888888889\nログ\t0.030555555555555555\n走行\t0.030555555555555555\ncsv\t0.019444444444444445\n\n--- TOP 3 TF values of https://dev.classmethod.jp/etc/org-mode-re-reveal/\norg\t0.06280193236714976\nreveal\t0.04830917874396135\nスライド\t0.033816425120772944\npdf\t0.028985507246376812\njs\t0.024154589371980676\n\n--- TOP 3 TF values of https://dev.classmethod.jp/cloud/azure/azure-cisco-site-to-site-vpn/\nvpn\t0.04430379746835443\n自宅\t0.035864978902953586\nazure\t0.03375527426160337\n接続\t0.03164556962025317\n作成\t0.027426160337552744\n\n--- TOP 3 TF values of https://dev.classmethod.jp/cloud/aws/org-mode-run-awscli/\n実行\t0.03953488372093023\norg\t0.037209302325581395\naws\t0.03255813953488372\njson\t0.020930232558139535\nmfa\t0.020930232558139535\n\n--- TOP 3 TF values of https://dev.classmethod.jp/cloud/aws/stg202-whatsnew-aws-file-storage/\nセッション\t0.07317073170731707\naws\t0.04878048780487805\nアップデート\t0.04878048780487805\nストレージ\t0.04878048780487805\nファイル\t0.04878048780487805\n\n--- TOP 3 TF values of https://dev.classmethod.jp/cloud/aws/container-night-2019-10-28/\nコンテナ\t0.059375\nec\t0.025\n起動\t0.0234375\nこと\t0.021875\n利用\t0.01875\n\n--- TOP 3 TF values of https://dev.classmethod.jp/etc/azure-first-vm/\n作成\t0.06649616368286446\nazure\t0.05115089514066496\nリソース\t0.04092071611253197\n仮想\t0.03580562659846547\nアカウント\t0.03324808184143223\n\n--- TOP 3 TF values of https://dev.classmethod.jp/cloud/aws-summit-tokyo-2019-c3-01-container/\nコンテナ\t0.06976744186046512\nサービス\t0.027131782945736434\n実行\t0.02131782945736434\naws\t0.01937984496124031\nec\t0.01744186046511628\n\n--- TOP 3 TF values of https://dev.classmethod.jp/etc/powershell-core-6-psreadline/\n設定\t0.06172839506172839\nキーバインド\t0.04938271604938271\n変更\t0.04938271604938271\nset\t0.043209876543209874\npsreadline\t0.030864197530864196\n\n--- TOP 3 TF values of https://dev.classmethod.jp/cloud/aws/try-accelerated-site-to-site-vpn/\nvpn\t0.0694980694980695\nサイト\t0.03474903474903475\naws\t0.02895752895752896\nip\t0.02895752895752896\n作成\t0.02895752895752896\n\n--- TOP 3 TF values of https://dev.classmethod.jp/cloud/aws/cloudtrail-athena-s3-object-survey/\nバケット\t0.04450261780104712\nパブリック\t0.034031413612565446\n作成\t0.034031413612565446\ncloudtrail\t0.028795811518324606\nオブジェクト\t0.028795811518324606\n"
    }
   ],
   "source": [
    "for i in mapping.keys():\n",
    "    print(\"\\n--- TOP 3 TF values of {}\".format(mapping[i][\"url\"]))\n",
    "    best3 = sorted(enumerate(mapping[i][\"tfs\"]), key=lambda x:x[1], reverse=True)[:5]\n",
    "    for index, tf in best3:\n",
    "        print(\"{}\\t{}\".format(features[index], tf))    "
   ]
  },
  {
   "cell_type": "markdown",
   "metadata": {},
   "source": [
    "# IDFの計算式を作ってみる"
   ]
  },
  {
   "cell_type": "code",
   "execution_count": 179,
   "metadata": {},
   "outputs": [],
   "source": [
    "import math\n",
    "\n",
    "def calc_idf(word):    \n",
    "    # 総文書数を計算\n",
    "    N = len(mapping.keys())\n",
    "    # word が登録されていない場合\n",
    "    if word not in features:\n",
    "        return math.log2(N)\n",
    "    # word indexを取得\n",
    "    word_index = features.index(word)\n",
    "    # 単語 word が出現する文書数 df を計算\n",
    "    df = len([i for i in mapping.keys() if mapping[i][\"bow\"][word_index] > 0])\n",
    "    # idf を計算\n",
    "    return math.log2(N/float(df + 1))"
   ]
  },
  {
   "cell_type": "markdown",
   "metadata": {},
   "source": [
    "## 全単語のIDFを計算してみる"
   ]
  },
  {
   "cell_type": "code",
   "execution_count": 180,
   "metadata": {},
   "outputs": [],
   "source": [
    "idfs = [calc_idf(word) for word in features]"
   ]
  },
  {
   "cell_type": "code",
   "execution_count": 181,
   "metadata": {},
   "outputs": [
    {
     "name": "stdout",
     "output_type": "stream",
     "text": "----- IDF values: BEST 10\n000\t4.584962500721156\n04\t4.584962500721156\n05\t4.584962500721156\n07\t4.584962500721156\n08\t4.584962500721156\n09\t4.584962500721156\n107\t4.584962500721156\n1234567890\t4.584962500721156\n149\t4.584962500721156\n160\t4.584962500721156\n\n----- IDF values: WORST 10\nこと\t0.2274104961030724\naws\t0.41503749927884376\nため\t0.49749965947081687\nよう\t0.49749965947081687\n作成\t0.49749965947081687\nこの\t0.5405683813627028\n以下\t0.5405683813627028\n今回\t0.726981505593584\n環境\t0.726981505593584\n利用\t0.8300749985576875\n"
    },
    {
     "data": {
      "text/plain": "[None, None, None, None, None, None, None, None, None, None]"
     },
     "execution_count": 181,
     "metadata": {},
     "output_type": "execute_result"
    }
   ],
   "source": [
    "best10  = sorted(enumerate(idfs), key=lambda x:x[1], reverse=True)[:10]\n",
    "worst10 = sorted(enumerate(idfs), key=lambda x:x[1])[:10]\n",
    "print(\"----- IDF values: BEST 10\")\n",
    "[print(\"{}\\t{}\".format(features[i],idf)) for i,idf in best10]\n",
    "print(\"\\n----- IDF values: WORST 10\")\n",
    "[print(\"{}\\t{}\".format(features[i],idf)) for i,idf in worst10]"
   ]
  },
  {
   "cell_type": "markdown",
   "metadata": {},
   "source": [
    "# TF-IDF を計算してみる"
   ]
  },
  {
   "cell_type": "code",
   "execution_count": 184,
   "metadata": {},
   "outputs": [],
   "source": [
    "for i in mapping.keys():\n",
    "    mapping[i][\"tfidfs\"] = [idfs[index] * tf for index,tf in enumerate(mapping[i][\"tfs\"])]\n"
   ]
  },
  {
   "cell_type": "code",
   "execution_count": 186,
   "metadata": {},
   "outputs": [
    {
     "name": "stdout",
     "output_type": "stream",
     "text": "\n--- TOP 3 TF-IDF values of https://dev.classmethod.jp/cloud/aws/on-premise-reverse-proxy-using-alb/\nalb\t0.12149532710280372\nオンプレサーバー\t0.11426697821111916\nターゲット\t0.10280373831775699\nサーバー\t0.05636989876962022\nhttp\t0.05584053739441053\n\n--- TOP 3 TF-IDF values of https://dev.classmethod.jp/cloud/aws/aws-cisco-site-to-site-vpn/\nactive\t0.11282051282051282\n自宅\t0.10769230769230768\nvpn\t0.08175118777245612\ncisco\t0.07353769232248525\n接続\t0.06281742608600213\n\n--- TOP 3 TF-IDF values of https://dev.classmethod.jp/cloud/aws/higobashi-aws-11-deepracer/\n料金\t0.16112191014477106\nusd\t0.15454929777711762\nawsdeepracer\t0.1348314606741573\ncd\t0.10303286518474508\nci\t0.10303286518474508\n\n--- TOP 3 TF-IDF values of https://dev.classmethod.jp/cloud/aws/aws-summit-osaka-2019-297-input-output/\n技術\t0.08005649168880145\nトレーニング\t0.07734806629834254\n資料\t0.07599385360311309\nキャッチ\t0.05066256906874205\n最新\t0.049985462721127326\n\n--- TOP 3 TF-IDF values of https://dev.classmethod.jp/cloud/aws/aws-cdk-intro-nw/\nnw\t0.09329865553793051\npractice\t0.079970276175369\npy\t0.06252841571025272\nコンス\t0.05813953488372093\nトラクタ\t0.05813953488372093\n\n--- TOP 3 TF-IDF values of https://dev.classmethod.jp/etc/summit-osaka-2019-299-basic/\nストレージ\t0.10102273702271808\nebs\t0.08516958205673973\nデータベース\t0.05051136851135904\n用途\t0.05051136851135904\nrds\t0.04643962848297214\n\n--- TOP 3 TF-IDF values of https://dev.classmethod.jp/cloud/aws/vscode-botostubs-boto3/\nbotostubs\t0.26307161889383684\n支援\t0.15032663936790677\nvscode\t0.13373091827187678\nboto\t0.08815481559150383\n入力\t0.07918155735340472\n\n--- TOP 3 TF-IDF values of https://dev.classmethod.jp/etc/site_vpn_azure_aws/\nazure\t0.11788077855369371\n仮想\t0.09192209385398388\nvpn\t0.0863368443399633\n接続\t0.07290223530290384\nipsectunnel\t0.06963249516441006\n\n--- TOP 3 TF-IDF values of https://dev.classmethod.jp/cloud/aws/awsspec-by-jupyter/\nnotebook\t0.1382630165567388\njupyternotebook\t0.09875929754052772\npandas\t0.08888336778647495\nhtml\t0.07983595038938328\n出力\t0.06408997935672288\n\n--- TOP 3 TF-IDF values of https://dev.classmethod.jp/cloud/aws/deepracer-new-input-parameters/\nobject\t0.22230121215617726\nobjects\t0.15283208335737186\nパラメータ\t0.11783789727663554\nbot\t0.08336295455856647\nカー\t0.08336295455856647\n\n--- TOP 3 TF-IDF values of https://dev.classmethod.jp/cloud/aws/aws-summit-osaka-2019-298-security/\nセキュリティ\t0.10716962430674919\nベストプラクティス\t0.07780413385612191\nお客様\t0.05446289369928533\ndatalake\t0.03852909664471559\n原則\t0.03852909664471559\n\n--- TOP 3 TF-IDF values of https://dev.classmethod.jp/etc/cloudformation-templates-on-emacs/\nテンプレート\t0.10799464066014987\nmode\t0.10392609699769052\ncfn\t0.10039416856124524\nnoweb\t0.08471062356990589\nyaml\t0.08339237534093805\n\n--- TOP 3 TF-IDF values of https://dev.classmethod.jp/etc/parse-my-article-using-beautiful-soup/\nテキスト\t0.14705882352941177\n解析\t0.1323529411764706\nbeautifulsoup\t0.11799535847444151\nfind\t0.10113887869237845\n抽出\t0.10113887869237845\n\n--- TOP 3 TF-IDF values of https://dev.classmethod.jp/cloud/aws/devio2019-osaka-vpn-introduction/\nssl\t0.3157894736842105\nawsclientvpn\t0.21052631578947367\nvpn\t0.16780506963819936\ninosaka\t0.12065690791371463\nvirtualprivatenetwork\t0.12065690791371463\n\n--- TOP 3 TF-IDF values of https://dev.classmethod.jp/cloud/aws/cmregrowth2019-osaka-tgw-update/\ntransitgateway\t0.1338606062006531\ngrowth\t0.1104810241137628\nre\t0.10906189907632742\ninvent\t0.0963855421686747\n16\t0.07862733508033239\n\n--- TOP 3 TF-IDF values of https://dev.classmethod.jp/cloud/aws/management-console-region-select-shinsetu/\n地味\t0.22365670735225152\n嬉しい\t0.17487621954737348\nリージョン\t0.163714332206111\nアップデート\t0.1378919109204925\nリスト\t0.13549305261773426\n\n--- TOP 3 TF-IDF values of https://dev.classmethod.jp/cloud/aws/koneta-aws-waf-managed-rule-exception/\nruleid\t0.288816535478498\n例外\t0.21661240160887352\nawswaf\t0.15748031496062992\ncount\t0.144408267739249\nログ\t0.11409625980844931\n\n--- TOP 3 TF-IDF values of https://dev.classmethod.jp/etc/relay_looking_back_amazon_rds_2019/\nデータベース\t0.11817830846078127\nリレーショナル\t0.08048289738430583\namazonrds\t0.07380221329128622\nrds\t0.07243460764587525\nmysql\t0.06438631790744467\n\n--- TOP 3 TF-IDF values of https://dev.classmethod.jp/etc/kawahara-join-201906/\nゲーム\t0.18181818181818182\n業務\t0.12625488993925235\nその後\t0.09887983047981194\n最近\t0.09090909090909091\njoin\t0.0694691287988054\n\n--- TOP 3 TF-IDF values of https://dev.classmethod.jp/cloud/aws/ssl-introduction-for-aws-client-vpn/\nssl\t0.35555555555555557\nawsclientvpn\t0.3111111111111111\n証明\t0.15283208335737186\nサーバー\t0.0861654166907052\nこれら\t0.08050124997596146\n\n--- TOP 3 TF-IDF values of https://dev.classmethod.jp/etc/org-mode-paste-show-clipboard-image/\norg\t0.16338868109785598\nクリップ\t0.1348518382565046\n一言\t0.1348518382565046\n強力\t0.1348518382565046\nmd\t0.11764705882352941\n\n--- TOP 3 TF-IDF values of https://dev.classmethod.jp/cloud/aws/serverless-streaming-process-pipelin-bestpractice/\n処理\t0.17005760685695215\nパイプライン\t0.16326530612244897\namazonkinesis\t0.09357066328002359\nandanalyticschallenges\t0.09357066328002359\nandmachinelearning\t0.09357066328002359\n\n--- TOP 3 TF-IDF values of https://dev.classmethod.jp/cloud/aws/ha-proxy-environment-using-nlb/\nnlb\t0.13585121055364383\nautoscalinggroup\t0.0675678684316802\nプロキシサーバー\t0.06037831580161947\nターゲット\t0.05052631578947368\nservice\t0.048086822822813804\n\n--- TOP 3 TF-IDF values of https://dev.classmethod.jp/cloud/aws/transit-gateway-supports-multicast/\nキャスト\t0.200435519157209\nマルチ\t0.1567196721626735\n受信\t0.1002177595786045\neni\t0.06557377049180328\ntgw\t0.06557377049180328\n\n--- TOP 3 TF-IDF values of https://dev.classmethod.jp/cloud/aws/python-securitygroups-to-markdown/\npandas\t0.20340212770049113\nmarkdown\t0.19148936170212766\ndataframe\t0.15255159577536834\n出力\t0.12833147166700776\njupyternotebook\t0.12712632981280697\n\n--- TOP 3 TF-IDF values of https://dev.classmethod.jp/cloud/aws/cdk-python-cfnbucket-policy/\nバケット\t0.15789473684210525\nポリシー\t0.13062616399388827\ncfnbucketpolicy\t0.07425040486997823\npolicy\t0.07425040486997823\ndocument\t0.06477732793522267\n\n--- TOP 3 TF-IDF values of https://dev.classmethod.jp/cloud/aws/best-practiceof-making-cfn-reinvent2019/\nスタック\t0.11690785179140907\nセット\t0.07378721018217121\nテスト\t0.07035175879396985\nテンプレート\t0.053405298544820574\nvisualstudiocode\t0.04020100502512563\n\n--- TOP 3 TF-IDF values of https://dev.classmethod.jp/cloud/aws/cfn-tempolary-use-of-ssm/\nエンド\t0.15002457038316294\nruncommand\t0.13793103448275862\nポイント\t0.127706095570738\nsessionmanager\t0.10540143679818749\nsystemsmanagerruncommand\t0.09195402298850575\n\n--- TOP 3 TF-IDF values of https://dev.classmethod.jp/cloud/aws/aws-nw-architectures-net320/\nvpc\t0.08764941967014743\nprivatelink\t0.0628077054893309\ntransitgateway\t0.055344609288439386\n接続\t0.0516307611665771\nアーキテクチャ\t0.044699101449778\n\n--- TOP 3 TF-IDF values of https://dev.classmethod.jp/cloud/aws/ssm-run-command-on-purivate-subnet/\namazonaws\t0.13445637832026852\nエンド\t0.13396622194039037\nnortheast\t0.12903225806451613\nap\t0.11564395163616632\nポイント\t0.11403667478384083\n\n--- TOP 3 TF-IDF values of https://dev.classmethod.jp/etc/mac-powershell-core-6-2/\npowershell\t0.2137821674741974\nエイリアス\t0.12844036697247707\nmac\t0.11009174311926606\npowershellcore\t0.11009174311926606\nprofile\t0.09174311926605505\n\n--- TOP 3 TF-IDF values of https://dev.classmethod.jp/cloud/aws/tgw-network-manager-with-cli/\nリンク\t0.0840225586106521\nsynopsis\t0.08358004558606275\ncreate\t0.08333333333333333\nデバイス\t0.08333333333333333\n登録\t0.07661314394749823\n\n--- TOP 3 TF-IDF values of https://dev.classmethod.jp/cloud/aws/use-proxy-server-over-vpcpeering/\nピアリング\t0.09311590910964042\nvpc\t0.06320615445818382\nサーバー\t0.05874914774366264\ndx\t0.05819744319352525\nnat\t0.05819744319352525\n\n--- TOP 3 TF-IDF values of https://dev.classmethod.jp/etc/waf-athena-excel/\nクエリ\t0.09051724137931035\nathena\t0.08620689655172414\nwaf\t0.07905107759864062\nリクエスト\t0.05986223229878345\ncross\t0.05928830819898047\n\n--- TOP 3 TF-IDF values of https://dev.classmethod.jp/etc/emacs-setup-and-org-mode/\nemacs\t0.11956588914776878\nmode\t0.09933774834437087\nido\t0.060727980142002064\norg\t0.05518425652973944\nhomebrew\t0.052980132450331126\n\n--- TOP 3 TF-IDF values of https://dev.classmethod.jp/cloud/aws/cfn-helper-scripts-using-pwsh-sdk/\nスタック\t0.18169065500276496\ncfnchangeset\t0.10253909746021754\n更新\t0.07986731056860052\ncomplete\t0.07324221247158395\nget\t0.0625501803035232\n\n--- TOP 3 TF-IDF values of https://dev.classmethod.jp/cloud/aws/aim214-introduction-of-sagemaker-studio/\nsagemaker\t0.11814345991561181\namazonsagemakerstudio\t0.09672916668188093\n機械\t0.08260846597047579\n学習\t0.07133022149768738\nide\t0.06751054852320675\n\n--- TOP 3 TF-IDF values of https://dev.classmethod.jp/server-side/python/deepracer-matplotlib-pandas/\nmatplotlib\t0.15555555555555556\npandas\t0.14937343753004817\n走行\t0.12222222222222222\nサーキット\t0.07641604167868593\nログ\t0.07379281247796467\n\n--- TOP 3 TF-IDF values of https://dev.classmethod.jp/etc/org-mode-re-reveal/\nreveal\t0.22149577298169837\norg\t0.174439123297711\nスライド\t0.15504704108718884\njs\t0.11074788649084918\npdf\t0.09458070741547228\n\n--- TOP 3 TF-IDF values of https://dev.classmethod.jp/cloud/azure/azure-cisco-site-to-site-vpn/\nazure\t0.1210113924294061\n自宅\t0.10759493670886075\nvpn\t0.09416908971257602\nike\t0.0759493670886076\ncisco\t0.06806890824154094\n\n--- TOP 3 TF-IDF values of https://dev.classmethod.jp/cloud/aws/org-mode-run-awscli/\norg\t0.10335284013631821\nmfa\t0.0959643314104428\npath\t0.0746389244303444\nrole\t0.07441860465116279\n認証\t0.0666969767576029\n\n--- TOP 3 TF-IDF values of https://dev.classmethod.jp/cloud/aws/stg202-whatsnew-aws-file-storage/\nストレージ\t0.15917241004067287\n事例\t0.14634146341463417\nセッション\t0.12278574915458325\namazonefs\t0.11182835367612576\namazonfsxforwindowsfileserver\t0.11182835367612576\n\n--- TOP 3 TF-IDF values of https://dev.classmethod.jp/cloud/aws/container-night-2019-10-28/\nコンテナ\t0.2375\nfargate\t0.07880404298114488\n起動\t0.05303986888672954\necs\t0.04375\nタイプ\t0.040787930072922425\n\n--- TOP 3 TF-IDF values of https://dev.classmethod.jp/etc/azure-first-vm/\nazure\t0.1833740409576039\nサブスクリプション\t0.12276214833759591\n無料\t0.09974424552429668\nアカウント\t0.08594504478101031\n仮想\t0.08102936491476499\n\n--- TOP 3 TF-IDF values of https://dev.classmethod.jp/cloud/aws-summit-tokyo-2019-c3-01-container/\nコンテナ\t0.27906976744186046\nイメージ\t0.04863321221908545\nアプリケーション\t0.04212274708044495\nイメージレジストリ\t0.03875968992248062\n連携\t0.03875968992248062\n\n--- TOP 3 TF-IDF values of https://dev.classmethod.jp/etc/powershell-core-6-psreadline/\nキーバインド\t0.19753086419753085\nset\t0.1549057870681981\npsreadline\t0.14151118829386283\npsreadlinekeyhandler\t0.14151118829386283\npsreadlineoption\t0.11320895063509026\n\n--- TOP 3 TF-IDF values of https://dev.classmethod.jp/cloud/aws/try-accelerated-site-to-site-vpn/\nvpn\t0.14772029296335698\naccelerated\t0.12391790542489611\nglobalaccelerator\t0.09736406854813265\nサイト\t0.07863826120657971\naccelerator\t0.07081023167136921\n\n--- TOP 3 TF-IDF values of https://dev.classmethod.jp/cloud/aws/cloudtrail-athena-s3-object-survey/\nバケット\t0.13350785340314136\ncloudtrail\t0.13202771598935265\n投稿\t0.13202771598935265\nパブリック\t0.10209424083769633\nオブジェクト\t0.07443609295270344\n"
    }
   ],
   "source": [
    "for i in mapping.keys():\n",
    "    print(\"\\n--- TOP 3 TF-IDF values of {}\".format(mapping[i][\"url\"]))\n",
    "    best3 = sorted(enumerate(mapping[i][\"tfidfs\"]), key=lambda x:x[1], reverse=True)[:5]\n",
    "    for index, tf in best3:\n",
    "        print(\"{}\\t{}\".format(features[index], tf))    "
   ]
  },
  {
   "cell_type": "code",
   "execution_count": null,
   "metadata": {},
   "outputs": [],
   "source": []
  }
 ]
}