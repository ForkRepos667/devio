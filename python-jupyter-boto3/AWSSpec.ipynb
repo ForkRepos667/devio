{
 "cells": [
  {
   "cell_type": "code",
   "execution_count": null,
   "metadata": {},
   "outputs": [],
   "source": [
    "# ライブラリインポート\n",
    "from IPython.core.display import display\n",
    "from IPython.core.display import Markdown as md\n",
    "import datetime"
   ]
  },
  {
   "cell_type": "code",
   "execution_count": null,
   "metadata": {},
   "outputs": [],
   "source": [
    "# 日付表示\n",
    "display(md(\"creation date: {}\".format(datetime.date.today())))"
   ]
  },
  {
   "cell_type": "markdown",
   "metadata": {},
   "source": [
    "# AWS環境定義書\n",
    "## 基本情報\n",
    "- **環境** :: XXX用XXXAWS環境\n",
    "- **アカウントID** :: DDDD-DDDD-DDDD\n",
    "- **作成者** :: Kawahara Masahiro"
   ]
  },
  {
   "cell_type": "code",
   "execution_count": null,
   "metadata": {},
   "outputs": [],
   "source": [
    "# ライブラリインポート\n",
    "import pandas as pd\n",
    "import boto3"
   ]
  },
  {
   "cell_type": "code",
   "execution_count": null,
   "metadata": {},
   "outputs": [],
   "source": [
    "# 名前タグ取得用関数\n",
    "def get_name_from_tags(tags):\n",
    "    tags_filter = [t['Value'] for t in tags if t['Key'] == \"Name\"]\n",
    "    if tags_filter:\n",
    "        return tags_filter[0]\n",
    "    else:\n",
    "        return \"\""
   ]
  },
  {
   "cell_type": "markdown",
   "metadata": {},
   "source": [
    "## VPC"
   ]
  },
  {
   "cell_type": "code",
   "execution_count": null,
   "metadata": {},
   "outputs": [],
   "source": [
    "ec2_client = boto3.client('ec2')"
   ]
  },
  {
   "cell_type": "code",
   "execution_count": null,
   "metadata": {},
   "outputs": [],
   "source": [
    "# VPC 一覧取得\n",
    "vpcs = ec2_client.describe_vpcs()['Vpcs']"
   ]
  },
  {
   "cell_type": "code",
   "execution_count": null,
   "metadata": {},
   "outputs": [],
   "source": [
    "buffer = []\n",
    "for vpc in vpcs:\n",
    "    for association in vpc['CidrBlockAssociationSet']:\n",
    "        buffer.append([\n",
    "            get_name_from_tags(vpc['Tags']), \n",
    "            vpc['VpcId'], \n",
    "            association['CidrBlock'],\n",
    "            vpc['InstanceTenancy']            \n",
    "        ])\n",
    "# Display\n",
    "df_vpcs = pd.DataFrame(buffer, \n",
    "                       columns=[\"Name\", \"VpcId\", \"Cidr\", \"Tenancy\"])\n",
    "display(df_vpcs)"
   ]
  },
  {
   "cell_type": "markdown",
   "metadata": {},
   "source": [
    "## RouteTables"
   ]
  },
  {
   "cell_type": "code",
   "execution_count": null,
   "metadata": {},
   "outputs": [],
   "source": [
    "# RouteTable 一覧取得\n",
    "rtbs = ec2_client.describe_route_tables()['RouteTables']"
   ]
  },
  {
   "cell_type": "markdown",
   "metadata": {},
   "source": [
    "### RouteTable 一覧"
   ]
  },
  {
   "cell_type": "code",
   "execution_count": null,
   "metadata": {},
   "outputs": [],
   "source": [
    "buffer = []\n",
    "for rtb in rtbs:\n",
    "    vpc = df_vpcs[df_vpcs['VpcId'] == rtb['VpcId']].iloc[0]\n",
    "    # メインルートテーブルかどうかを調べる\n",
    "    is_main = False\n",
    "    for association in rtb['Associations']:\n",
    "        if association['Main'] == True:\n",
    "            is_main = True\n",
    "    # append\n",
    "    buffer.append([\n",
    "        get_name_from_tags(rtb['Tags']),\n",
    "        rtb['RouteTableId'],\n",
    "        \"{} | {}\".format(vpc['VpcId'], vpc['Name']),\n",
    "        is_main\n",
    "    ])\n",
    "# Display\n",
    "df_rtbs = pd.DataFrame(buffer, \n",
    "                       columns=[\"Name\", \"RouteTableId\", \"Vpc\", \"Main\"])\n",
    "display(df_rtbs)"
   ]
  },
  {
   "cell_type": "markdown",
   "metadata": {},
   "source": [
    "### Route一覧"
   ]
  },
  {
   "cell_type": "code",
   "execution_count": null,
   "metadata": {},
   "outputs": [],
   "source": [
    "buffer = []\n",
    "for rtb in rtbs:\n",
    "    for route in rtb['Routes']:\n",
    "        buffer.append([\n",
    "            \"{} | {}\".format(rtb['RouteTableId'], get_name_from_tags(rtb['Tags'])),\n",
    "            route['DestinationCidrBlock'],\n",
    "            route['GatewayId']\n",
    "        ])\n",
    "# Display\n",
    "df_rtbs_routes = pd.DataFrame(buffer, \n",
    "                               columns=[\"RouteTable\", \"Destination\", \"Gateway\"])\n",
    "display(df_rtbs_routes)"
   ]
  },
  {
   "cell_type": "markdown",
   "metadata": {},
   "source": [
    "## Subnets"
   ]
  },
  {
   "cell_type": "code",
   "execution_count": null,
   "metadata": {},
   "outputs": [],
   "source": [
    "# Subnet 一覧取得\n",
    "subnets = ec2_client.describe_subnets()['Subnets']"
   ]
  },
  {
   "cell_type": "code",
   "execution_count": null,
   "metadata": {},
   "outputs": [],
   "source": [
    "# サブネットとルートテーブル関連付け情報の取得\n",
    "buffer = []\n",
    "for rtb in rtbs:\n",
    "    for association in rtb['Associations']:\n",
    "        subnet_id = \"\"\n",
    "        if association['Main'] == False:\n",
    "            subnet_id = association['SubnetId']\n",
    "        buffer.append([\n",
    "            get_name_from_tags(rtb['Tags']),\n",
    "            rtb['VpcId'],\n",
    "            association['Main'],\n",
    "            rtb['RouteTableId'],\n",
    "            subnet_id\n",
    "        ])\n",
    "df_rtb_assoc = pd.DataFrame(buffer, \n",
    "                            columns=[\"Name\", \"VpcId\", \"Main\", \"RouteTableId\", \"SubnetId\"])"
   ]
  },
  {
   "cell_type": "code",
   "execution_count": null,
   "metadata": {
    "scrolled": false
   },
   "outputs": [],
   "source": [
    "buffer = []\n",
    "for subnet in subnets:\n",
    "    vpc = df_vpcs[df_vpcs['VpcId'] == subnet['VpcId']].iloc[0]\n",
    "    # RouteTable を調べる\n",
    "    rtb_info = \"\"\n",
    "    ## RouteTables の Association にない場合\n",
    "    if df_rtb_assoc[df_rtb_assoc['SubnetId'] == subnet['SubnetId']].empty:\n",
    "        ## VPCのデフォルトルートテーブルを取得\n",
    "        default_rtb = df_rtb_assoc[\n",
    "            (df_rtb_assoc['VpcId'] == subnet['VpcId'])\n",
    "            & (df_rtb_assoc['Main'] == True)].iloc[0]\n",
    "        rtb_info = \"{} | {}\".format(default_rtb['RouteTableId'], default_rtb['Name'])\n",
    "    else:         \n",
    "        ## RouteTables の Association にある場合\n",
    "        rtb = df_rtb_assoc[df_rtb_assoc['SubnetId'] == subnet['SubnetId']].iloc[0]\n",
    "        rtb_info = \"{} | {}\".format(rtb['RouteTableId'], rtb['Name'])\n",
    "    # append\n",
    "    buffer.append([\n",
    "        get_name_from_tags(subnet['Tags']),\n",
    "        subnet['SubnetId'],\n",
    "        \"{} ({}) | {}\".format(vpc['VpcId'], vpc['Cidr'], vpc['Name']),\n",
    "        subnet['CidrBlock'],\n",
    "        subnet['AvailabilityZone'],\n",
    "        rtb_info,\n",
    "        subnet['MapPublicIpOnLaunch']\n",
    "    ])\n",
    "# Display\n",
    "df_subnets = pd.DataFrame(buffer, \n",
    "                          columns=[\"Name\", \"SubnetId\", \"Vpc\", \"Cidr\",\n",
    "                                   \"Az\", \"RouteTable\", \"PublicIpOnLaunch\"])\n",
    "display(df_subnets)"
   ]
  },
  {
   "cell_type": "markdown",
   "metadata": {},
   "source": [
    "## EC2"
   ]
  },
  {
   "cell_type": "code",
   "execution_count": null,
   "metadata": {},
   "outputs": [],
   "source": [
    "# EC2 インスタンス一覧取得\n",
    "reservations = ec2_client.describe_instances()['Reservations']\n",
    "instances = sum([resv['Instances'] for resv in reservations], [])"
   ]
  },
  {
   "cell_type": "markdown",
   "metadata": {},
   "source": [
    "### EC2 インスタンス一覧"
   ]
  },
  {
   "cell_type": "code",
   "execution_count": null,
   "metadata": {},
   "outputs": [],
   "source": [
    "buffer = []\n",
    "for inst in instances:\n",
    "    subnet = df_subnets[df_subnets['SubnetId'] == inst['SubnetId']].iloc[0]\n",
    "    # append\n",
    "    buffer.append([\n",
    "        get_name_from_tags(inst['Tags']),\n",
    "        inst['InstanceId'],\n",
    "        inst['InstanceType'],\n",
    "        \"{} | {}\".format(subnet['SubnetId'], subnet['Name']),\n",
    "        inst['PublicIpAddress'] if 'PublicIpAddress' in inst else ''\n",
    "    ])\n",
    "# Display\n",
    "df_instances = pd.DataFrame(buffer,\n",
    "                            columns=[\"Name\", \"InstanceId\", \"InstanceType\",\n",
    "                                    \"Subnet\", \"PublicIp\"])\n",
    "display(df_instances)"
   ]
  },
  {
   "cell_type": "markdown",
   "metadata": {},
   "source": [
    "### インスタンス詳細"
   ]
  },
  {
   "cell_type": "code",
   "execution_count": null,
   "metadata": {},
   "outputs": [],
   "source": [
    "for inst in instances:\n",
    "    name = get_name_from_tags(inst['Tags'])\n",
    "    # make list\n",
    "    buffer = [[\n",
    "        inst['InstanceId'],\n",
    "        inst['InstanceType'],\n",
    "        inst['PrivateDnsName'],\n",
    "        inst['PrivateIpAddress'],\n",
    "        inst['VpcId'],\n",
    "        inst['SubnetId'],\n",
    "        inst['SourceDestCheck'],\n",
    "        inst['EbsOptimized'],\n",
    "        inst['RootDeviceType'],\n",
    "        inst['RootDeviceName'],\n",
    "        inst['PublicDnsName'],\n",
    "        inst['PublicIpAddress'] if 'PublicIpAddress' in inst else '',\n",
    "        inst['Placement']['AvailabilityZone'],\n",
    "        \", \".join([ sg['GroupName'] for sg in inst['SecurityGroups']]),\n",
    "        inst['IamInstanceProfile']['Arn'].split('/')[-1],\n",
    "        inst['ImageId']\n",
    "    ]]\n",
    "    df_instance = pd.DataFrame(buffer, \n",
    "                               index = [\"value\"],\n",
    "                               columns=[\"InstanceId\", \"InstanceType\", \"PrivateDnsName\",\n",
    "                                       \"PrivateIpAddress\", \"VpcId\", \"SubnetId\",\n",
    "                                       \"SourceDestCheck\", \"EbsOptimized\", \"RootDeviceType\",\n",
    "                                       \"RootDeviceName\", \"PublicDnsName\", \"PublicIpAddress\",\n",
    "                                       \"AvailabilityZone\", \"SecurityGroups\", \"IamRole\",\n",
    "                                       \"ImageId\"])\n",
    "    # display\n",
    "    display(md(\"#### \" + name))\n",
    "    display(df_instance.T)"
   ]
  }
 ],
 "metadata": {
  "kernelspec": {
   "display_name": "Python 3",
   "language": "python",
   "name": "python3"
  },
  "language_info": {
   "codemirror_mode": {
    "name": "ipython",
    "version": 3
   },
   "file_extension": ".py",
   "mimetype": "text/x-python",
   "name": "python",
   "nbconvert_exporter": "python",
   "pygments_lexer": "ipython3",
   "version": "3.7.3"
  }
 },
 "nbformat": 4,
 "nbformat_minor": 4
}
