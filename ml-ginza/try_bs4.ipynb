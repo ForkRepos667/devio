{
 "nbformat": 4,
 "nbformat_minor": 2,
 "metadata": {
  "language_info": {
   "name": "python",
   "codemirror_mode": {
    "name": "ipython",
    "version": 3
   },
   "version": "3.7.3-final"
  },
  "orig_nbformat": 2,
  "file_extension": ".py",
  "mimetype": "text/x-python",
  "name": "python",
  "npconvert_exporter": "python",
  "pygments_lexer": "ipython3",
  "version": 3,
  "kernelspec": {
   "name": "python3",
   "display_name": "Python 3"
  }
 },
 "cells": [
  {
   "cell_type": "markdown",
   "metadata": {},
   "source": [
    "# Beautiful Soup(bs4) を使ってブログの内容をテキストで抜き出してみる\n",
    "1. リクエスト取得\n",
    "2. bs4で解析・テキスト取得\n",
    "3. (追加) bs4で解析・テキスト取得"
   ]
  },
  {
   "cell_type": "code",
   "execution_count": 128,
   "metadata": {},
   "outputs": [],
   "source": [
    "# ライブラリインポート\n",
    "from bs4 import BeautifulSoup\n",
    "import requests\n",
    "from IPython.display import display"
   ]
  },
  {
   "cell_type": "markdown",
   "metadata": {},
   "source": [
    "## リクエスト取得"
   ]
  },
  {
   "cell_type": "code",
   "execution_count": 132,
   "metadata": {},
   "outputs": [
    {
     "data": {
      "text/plain": "'\\ufeff<!DOCTYPE html>\\n<html xmlns=\"http://www.w3.org/1999/xhtml\" prefix=\"og: http://ogp.me/ns#\">\\n<head>\\n<'"
     },
     "execution_count": 132,
     "metadata": {},
     "output_type": "execute_result"
    }
   ],
   "source": [
    "url = \"https://dev.classmethod.jp/cloud/aws/aws-nw-architectures-net320/\"\n",
    "response = requests.get(url)\n",
    "# 確認\n",
    "response.text[:100]"
   ]
  },
  {
   "cell_type": "markdown",
   "metadata": {},
   "source": [
    "## bs4で解析・テキスト取得"
   ]
  },
  {
   "cell_type": "code",
   "execution_count": 79,
   "metadata": {},
   "outputs": [
    {
     "data": {
      "text/plain": "bs4.BeautifulSoup"
     },
     "execution_count": 79,
     "metadata": {},
     "output_type": "execute_result"
    }
   ],
   "source": [
    "soup = BeautifulSoup(response.text, 'html.parser')\n",
    "type(soup)"
   ]
  },
  {
   "cell_type": "code",
   "execution_count": 122,
   "metadata": {},
   "outputs": [],
   "source": [
    "# 単純に get_text()\n",
    "soup.get_text()[:100]\n",
    "# 出力\n",
    "with open('try_bs4_1_all.txt', 'w') as f:\n",
    "    f.write(soup.get_text())"
   ]
  },
  {
   "cell_type": "code",
   "execution_count": 123,
   "metadata": {},
   "outputs": [],
   "source": [
    "# フィルターを行い get_text()\n",
    "contents = soup.find('div', class_=\"single_article_contents\")\n",
    "contents.get_text()[:200].split('\\n')\n",
    "# 出力\n",
    "with open('try_bs4_2_contents.txt', 'w') as f:\n",
    "    f.write(contents.get_text())"
   ]
  },
  {
   "cell_type": "markdown",
   "metadata": {},
   "source": [
    "## (追加) bs4で解析・テキスト取得"
   ]
  },
  {
   "cell_type": "markdown",
   "metadata": {},
   "source": [
    "### ▼ パラグラフのみ抽出"
   ]
  },
  {
   "cell_type": "code",
   "execution_count": 82,
   "metadata": {},
   "outputs": [
    {
     "data": {
      "text/plain": "['こちらはラスベガスで開催された AWS re:Invent2019のセッション\\nThe right AWS network architecture for the right reason #NET320\\nのレポートです。',\n 'Transit Gateway/PrivateLink などの新サービス登場や\\n既存サービスのアップデートとともに、\\nAWSにおけるネットワーク構成の選択肢は増え続けています。',\n '本セッションは、今のAWSにおけるネットワーク構成が網羅されている\\n良いセッションでした。',\n '本ブログでは、このセッションで出てきた\\nAWSネットワークアーキテクチャ パターンを紹介 していきます。',\n '',\n '項目が多いので以下に目次を作成しています。\\n目次のリンクから気になるアーキテクチャを参照ください。',\n '',\n 'ネットワークインフラを構築するときに、まず作成するのは VPCです。\\nその VPCをどのように構成するかは重要です。',\n '本章は 1 VPCでシステムを構築・運用する構成 について紹介します。',\n '']"
     },
     "execution_count": 82,
     "metadata": {},
     "output_type": "execute_result"
    }
   ],
   "source": [
    "# p 要素の抽出\n",
    "texts_p = [c.get_text() for c in contents.find_all('p')]\n",
    "texts_p[:10]"
   ]
  },
  {
   "cell_type": "code",
   "execution_count": 134,
   "metadata": {},
   "outputs": [
    {
     "data": {
      "text/plain": "['こちらはラスベガスで開催された AWS re:Invent2019のセッションThe right AWS network architecture for the right reason #NET320のレポートです。',\n 'Transit Gateway/PrivateLink などの新サービス登場や既存サービスのアップデートとともに、AWSにおけるネットワーク構成の選択肢は増え続けています。',\n '本セッションは、今のAWSにおけるネットワーク構成が網羅されている良いセッションでした。',\n '本ブログでは、このセッションで出てきたAWSネットワークアーキテクチャ パターンを紹介 していきます。',\n '項目が多いので以下に目次を作成しています。目次のリンクから気になるアーキテクチャを参照ください。',\n 'ネットワークインフラを構築するときに、まず作成するのは VPCです。その VPCをどのように構成するかは重要です。',\n '本章は 1 VPCでシステムを構築・運用する構成 について紹介します。',\n '一番シンプルな構成です。システム領域の分割は サブネットやルートテーブル、NACLなどを用いて行います。',\n 'システムの規模が大きくなって使えるIPレンジが無くなってきた…',\n 'その場合は VPCの CIDR拡張 が行えます。']"
     },
     "metadata": {},
     "output_type": "display_data"
    }
   ],
   "source": [
    "import re\n",
    "\n",
    "# p 要素の抽出\n",
    "texts_p = [c.get_text() for c in contents.find_all('p')]\n",
    "# 空白行削除 + 改行コード削除\n",
    "texts_p = [t.replace('\\n','') for t in texts_p if re.match('\\S', t)]\n",
    "display(texts_p[:10])\n",
    "\n",
    "# 出力\n",
    "with open('try_bs4_3_p.txt', 'w') as f:\n",
    "    f.write(\"\\n\".join(texts_p))"
   ]
  },
  {
   "cell_type": "markdown",
   "metadata": {},
   "source": [
    "### ▼ リストアイテムのみ抽出"
   ]
  },
  {
   "cell_type": "code",
   "execution_count": 126,
   "metadata": {},
   "outputs": [],
   "source": [
    "from bs4.element import Tag, NavigableString\n",
    "\n",
    "def parse_li(li):\n",
    "    \"\"\"\n",
    "    リストアイテム(li)のテキストを返す\n",
    "    ※ li内の入れ子リストは除外する ( find_all('li') でそれ単体のリストアイテムが得られるため)\n",
    "    \"\"\"\n",
    "    buffer = []\n",
    "    for child in li:\n",
    "        if type(child) == NavigableString:\n",
    "            buffer.append(child.string)\n",
    "        elif type(child) == Tag:\n",
    "            # リスト構造ではない child のみ返り値に含める\n",
    "            if child.find_all('li') == []:\n",
    "                buffer.append(child.get_text())\n",
    "    return ''.join(buffer)"
   ]
  },
  {
   "cell_type": "code",
   "execution_count": 135,
   "metadata": {},
   "outputs": [
    {
     "data": {
      "text/plain": "['フラットネットワーク アーキテクチャ (Single VPC)',\n 'シングルアカウント構成',\n 'マルチアカウント構成 (Resource Access Manager)',\n '分割ネットワーク アーキテクチャ (Multi VPC)',\n 'シングルアカウント構成',\n 'マルチアカウント構成',\n 'VPC間の接続 (VPC ピアリング)',\n 'VPC間の接続 (Transit Gateway)',\n 'サイト間VPN',\n 'Transit Gateway']"
     },
     "metadata": {},
     "output_type": "display_data"
    }
   ],
   "source": [
    "# li 要素の抽出\n",
    "texts_li = [parse_li(li) for li in contents.find_all('li')]\n",
    "# 空白行削除 + 改行コード削除\n",
    "texts_li = [t.replace('\\n','') for t in texts_li if re.match('\\S', t)]\n",
    "display(texts_li[:10])\n",
    "\n",
    "# 出力\n",
    "with open('try_bs4_4_li.txt', 'w') as f:\n",
    "    f.write(\"\\n\".join(texts_li))"
   ]
  }
 ]
}