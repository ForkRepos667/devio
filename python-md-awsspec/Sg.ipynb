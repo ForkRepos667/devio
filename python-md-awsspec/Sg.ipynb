{
 "cells": [
  {
   "cell_type": "code",
   "execution_count": null,
   "metadata": {},
   "outputs": [],
   "source": [
    "# ライブラリ インポート\n",
    "import boto3\n",
    "import pandas as pd"
   ]
  },
  {
   "cell_type": "code",
   "execution_count": null,
   "metadata": {},
   "outputs": [],
   "source": [
    "# boto3 client\n",
    "client = boto3.client('ec2')"
   ]
  },
  {
   "cell_type": "code",
   "execution_count": null,
   "metadata": {},
   "outputs": [],
   "source": [
    "# 名前タグ取得用関数\n",
    "def get_name_from_tags(tags):\n",
    "    if tags == None:\n",
    "        return \"\"\n",
    "    tags_filter = [t['Value'] for t in tags if t['Key'] == \"Name\"]\n",
    "    if tags_filter:\n",
    "        return tags_filter[0]\n",
    "    else:\n",
    "        return \"\""
   ]
  },
  {
   "cell_type": "code",
   "execution_count": null,
   "metadata": {},
   "outputs": [],
   "source": [
    "# VPC　ID <--> VPC Name 対応関係の情報取得\n",
    "vpcs = client.describe_vpcs()['Vpcs']"
   ]
  },
  {
   "cell_type": "code",
   "execution_count": null,
   "metadata": {},
   "outputs": [],
   "source": [
    "df_vpcs = pd.DataFrame(\n",
    "    [\n",
    "        [vpc['VpcId'], get_name_from_tags(vpc.get('Tags'))]\n",
    "        for vpc in vpcs\n",
    "    ],\n",
    "    columns=['VpcId', 'Name']\n",
    ")"
   ]
  },
  {
   "cell_type": "code",
   "execution_count": null,
   "metadata": {},
   "outputs": [],
   "source": [
    "# VPC Name 取得用関数\n",
    "def get_vpc_name(vpcid):\n",
    "    df_filter = df_vpcs[df_vpcs['VpcId'] == vpcid]\n",
    "    if df_filter.empty:\n",
    "        return ''\n",
    "    else:\n",
    "        return df_filter.iloc[0]['Name']"
   ]
  },
  {
   "cell_type": "code",
   "execution_count": null,
   "metadata": {},
   "outputs": [],
   "source": [
    "# Security Groups 情報取得\n",
    "sgs = client.describe_security_groups()['SecurityGroups']"
   ]
  },
  {
   "cell_type": "markdown",
   "execution_count": null,
   "metadata": {},
   "outputs": [],
   "source": [
    "## Security Groups 一覧"
   ]
  },
  {
   "cell_type": "code",
   "execution_count": null,
   "metadata": {},
   "outputs": [],
   "source": [
    "sgs.sort(key=lambda sg:sg['GroupName'])\n",
    "df_sgs = pd.DataFrame(\n",
    "    [\n",
    "        [\n",
    "            sg['GroupName'],\n",
    "            sg['GroupId'],\n",
    "            \"{} ({})\".format(sg['VpcId'], get_vpc_name(sg['VpcId'])),\n",
    "            sg['Description']\n",
    "        ]\n",
    "        for sg in sgs\n",
    "    ],\n",
    "    columns=['GroupName', 'GroupId', \"VPC\", \"Description\"]\n",
    ")\n",
    "df_sgs.index = df_sgs.index + 1"
   ]
  },
  {
   "cell_type": "code",
   "execution_count": null,
   "metadata": {},
   "outputs": [],
   "source": [
    "# display\n",
    "print('## SecurityGroups 一覧')\n",
    "print(df_sgs.to_markdown())\n",
    "print('')"
   ]
  },
  {
   "cell_type": "markdown",
   "execution_count": null,
   "metadata": {},
   "outputs": [],
   "source": [
    "## SecurityGroups 一覧"
   ]
  },
  {
   "cell_type": "code",
   "execution_count": null,
   "metadata": {},
   "outputs": [],
   "source": [
    "df_sgs"
   ]
  },
  {
   "cell_type": "markdown",
   "execution_count": null,
   "metadata": {},
   "outputs": [],
   "source": [
    "## 各 Security Group Rules"
   ]
  },
  {
   "cell_type": "code",
   "execution_count": null,
   "metadata": {},
   "outputs": [],
   "source": [
    "# Security Group の名前取得用\n",
    "def get_sg_name(sgid):\n",
    "    df_filter = df_sgs[df_sgs['GroupId'] == sgid]\n",
    "    if df_filter.empty:\n",
    "        return ''\n",
    "    else:\n",
    "        return df_filter.iloc[0]['GroupName']"
   ]
  },
  {
   "cell_type": "code",
   "execution_count": null,
   "metadata": {},
   "outputs": [],
   "source": [
    "# Ip Protocol 表示用\n",
    "def parse_ip_protocol(ip_protocol):\n",
    "    if ip_protocol == '-1':\n",
    "        return 'ALL'\n",
    "    else:\n",
    "        return ip_protocol"
   ]
  },
  {
   "cell_type": "code",
   "execution_count": null,
   "metadata": {},
   "outputs": [],
   "source": [
    "# Port Range 表示用\n",
    "def parse_port_range(ip_protocol, from_port, to_port):\n",
    "    if ip_protocol == '-1':\n",
    "        return 'ALL'\n",
    "    elif ip_protocol == 'tcp' or ip_protocol == 'udp':\n",
    "        # TCP, UDP\n",
    "        if from_port == to_port:\n",
    "            return \"{}\".format(from_port)\n",
    "        else:\n",
    "            return \"{} - {}\".format(from_port, to_port)\n",
    "    else:\n",
    "        # ICMP, ICMPv6\n",
    "        icmp_type = 'ALL' if from_port == -1 else from_port\n",
    "        icmp_code = 'ALL' if to_port == -1 else to_port\n",
    "        return \"Type:{} Code:{}\".format(icmp_type, icmp_code)"
   ]
  },
  {
   "cell_type": "code",
   "execution_count": null,
   "metadata": {},
   "outputs": [],
   "source": [
    "print('## 各 SecurityGroup ルール')\n",
    "for sg in sgs:\n",
    "    # get rules\n",
    "    buffer = []\n",
    "    for perms in sg['IpPermissions']:\n",
    "        # ip protocol, port range\n",
    "        ip_protocol = parse_ip_protocol(perms.get('IpProtocol'))\n",
    "        port_range = parse_port_range(\n",
    "            perms.get('IpProtocol'),\n",
    "            perms.get('FromPort'),\n",
    "            perms.get('ToPort')\n",
    "        )\n",
    "        for ip_range in perms['IpRanges']:\n",
    "            buffer.append([\n",
    "                ip_protocol,\n",
    "                port_range,\n",
    "                ip_range.get('CidrIp'),\n",
    "                ip_range.get('Description')\n",
    "            ])\n",
    "        for ip_range in perms['Ipv6Ranges']:\n",
    "            buffer.append([\n",
    "                ip_protocol,\n",
    "                port_range,\n",
    "                ip_range.get('CidrIpv6'),\n",
    "                ip_range.get('Description')\n",
    "            ])\n",
    "        for group in perms['UserIdGroupPairs']:\n",
    "            group_id = group['GroupId']\n",
    "            buffer.append([\n",
    "                ip_protocol,\n",
    "                port_range,\n",
    "                \"{} ({})\".format(group_id, get_sg_name(group_id)),\n",
    "                group.get('Description')\n",
    "            ])\n",
    "    df_rules = pd.DataFrame(\n",
    "        buffer,\n",
    "        columns=['IpProtocol', 'PortRange', 'Source', 'Description']\n",
    "    ).sort_values(by=['IpProtocol', 'PortRange', 'Source']).reset_index(drop=True)\n",
    "    df_rules.index = df_rules.index + 1\n",
    "    # display\n",
    "    print(\"### {} (vpc:{})\".format(sg['GroupName'], get_vpc_name(sg['VpcId'])))    \n",
    "    if df_rules.empty:\n",
    "        print('- no rules')\n",
    "    else:\n",
    "        print(df_rules.to_markdown())\n",
    "    print('')"
   ]
  }
 ],
 "metadata": {
  "kernelspec": {
   "display_name": "Python 3",
   "language": "python",
   "name": "python3"
  },
  "language_info": {
   "codemirror_mode": {
    "name": "ipython",
    "version": 3
   },
   "file_extension": ".py",
   "mimetype": "text/x-python",
   "name": "python",
   "nbconvert_exporter": "python",
   "pygments_lexer": "ipython3",
   "version": "3.7.3-final"
  }
 },
 "nbformat": 4,
 "nbformat_minor": 4
}